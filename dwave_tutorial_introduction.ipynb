{
 "cells": [
  {
   "cell_type": "markdown",
   "id": "6cdc7ef8-0956-41c7-bd36-90e0a0b0a28d",
   "metadata": {},
   "source": [
    "# Discovering DWave Ocean SDK"
   ]
  },
  {
   "cell_type": "code",
   "execution_count": null,
   "id": "56ff3257-f15f-4fc8-aa70-687d50531182",
   "metadata": {},
   "outputs": [],
   "source": [
    "#First if not yet done, install the ocean sdk package \n",
    "#!pip install dwave-ocean-sdk\n",
    "#!pip install networkx"
   ]
  },
  {
   "cell_type": "markdown",
   "id": "d5578818-85e4-4c28-9b5c-bd3979581a42",
   "metadata": {},
   "source": [
    "You need to https://www.dwavesys.com/build/getting-started/ and connect to your leap account with the following commands run in a terminal (and follow instructions)\n",
    "\n",
    "```\n",
    "dwave auth login --oob\n",
    "dwave auth get\n",
    "dwave config create --auto-token\n",
    "```\n",
    "\n",
    "And the following to be able to use dwave inspector (read the EULA):\n",
    "\n",
    "```\n",
    "dwave install inspector\n",
    "```"
   ]
  },
  {
   "cell_type": "markdown",
   "id": "65891610-c1eb-404f-9501-4334232f47fc",
   "metadata": {},
   "source": [
    "# Our first QBM\n",
    "\n",
    "In this first part, we will solve a constraint scheduling problem as defined here: https://docs.ocean.dwavesys.com/en/stable/examples/scheduling.html\n",
    "\n",
    "## Problem definition"
   ]
  },
  {
   "cell_type": "code",
   "execution_count": null,
   "id": "27d21caf-964f-4963-ac0e-38569179d9ff",
   "metadata": {},
   "outputs": [],
   "source": [
    "from dimod import BinaryQuadraticModel\n",
    "# build directly from a QUBO matrix (equivalent)\n",
    "Q={(0,0): 1, (1,1): 1, (2,2):-1, (0,1): -2, (0,2): 1, (0,3): -1}\n",
    "bqm = BinaryQuadraticModel.from_qubo(Q, offset=1)\n",
    "print(\"create from QUBO matrix\", bqm)\n",
    "# or create from variables\n",
    "bqm = BinaryQuadraticModel({'t': 1, 'v': 1, 'l': -1},      # Linear terms\n",
    "                           {'tv': -2, 'tl': 1, 'tp': -1},  # Quadratic terms\n",
    "                           1,                              # Offset\n",
    "                           'BINARY')                       # 'SPIN' or 'BINARY'\n",
    "print(\"create from variables\", bqm)"
   ]
  },
  {
   "cell_type": "markdown",
   "id": "72d87cca-24ef-44cc-ba45-ed1d6d85a87f",
   "metadata": {},
   "source": [
    "## Solvers"
   ]
  },
  {
   "cell_type": "code",
   "execution_count": null,
   "id": "db08e763-28c0-4d8c-961a-006018fcf706",
   "metadata": {},
   "outputs": [],
   "source": [
    "from dimod.reference.samplers import ExactSolver\n",
    "# Exact Solver - https://docs.ocean.dwavesys.com/en/stable/docs_dimod/reference/sampler_composites/samplers.html#dimod.reference.samplers.ExactSolver\n",
    "sampler = ExactSolver()\n",
    "# will sample all the possible states\n",
    "sampleset = sampler.sample(bqm)"
   ]
  },
  {
   "cell_type": "code",
   "execution_count": null,
   "id": "ab5b2c57-164a-4020-a3f9-64b9054e8b7b",
   "metadata": {},
   "outputs": [],
   "source": [
    "print(sampleset)"
   ]
  },
  {
   "cell_type": "code",
   "execution_count": null,
   "id": "4bc608d5-5f47-46ce-bcbb-d12ede0da940",
   "metadata": {},
   "outputs": [],
   "source": [
    "print(sampleset.lowest(atol=.5))"
   ]
  },
  {
   "cell_type": "code",
   "execution_count": null,
   "id": "ce6018e6-d72b-4052-b3c5-3d1033841db8",
   "metadata": {},
   "outputs": [],
   "source": [
    "# Classical solvers\n",
    "# Random Sampler - https://docs.ocean.dwavesys.com/en/stable/docs_samplers/reference.html#dwave.samplers.RandomSampler\n",
    "from dwave.samplers import RandomSampler\n",
    "random_sampler = RandomSampler()\n",
    "random_sampleset = random_sampler.sample(bqm, num_reads=5)\n",
    "print(random_sampleset)\n",
    "print(random_sampleset.lowest(atol=.5))"
   ]
  },
  {
   "cell_type": "code",
   "execution_count": null,
   "id": "e1b35e2c-53e1-40ea-899c-e9732f30b449",
   "metadata": {},
   "outputs": [],
   "source": [
    "# Simulated Annealing - https://docs.ocean.dwavesys.com/en/stable/docs_samplers/reference.html#dwave.samplers.SimulatedAnnealingSampler\n",
    "from dwave.samplers import SimulatedAnnealingSampler\n",
    "sa_sampler = SimulatedAnnealingSampler()\n",
    "sa_sampleset = sa_sampler.sample(bqm)\n",
    "print(sa_sampleset.lowest(atol=.5))"
   ]
  },
  {
   "cell_type": "code",
   "execution_count": null,
   "id": "1c3dcc9c-798c-45a8-91f6-2ab571a38454",
   "metadata": {},
   "outputs": [],
   "source": [
    "for sample, energy in sampleset.data(['sample', 'energy']):  \n",
    "    if energy==0:\n",
    "        time = 'business hours' if sample['t'] else 'evenings'\n",
    "        venue = 'office' if sample['v'] else 'home'\n",
    "        length = 'short' if sample['l'] else 'long'\n",
    "        participation = 'mandatory' if sample['p'] else 'optional'\n",
    "        print(\"During {} at {}, you can schedule a {} meeting that is {}\".format(time, venue, length, participation))"
   ]
  },
  {
   "cell_type": "markdown",
   "id": "928bd7ab-bc16-4dc2-be4e-4dc88386cbc7",
   "metadata": {},
   "source": [
    "## Using a QPU sampler\n",
    "\n",
    "Before doing that, you need to evaluate the time in will take out of your credits"
   ]
  },
  {
   "cell_type": "code",
   "execution_count": null,
   "id": "e03118ce-dff1-44e9-b1d2-be0b5f107247",
   "metadata": {},
   "outputs": [],
   "source": [
    "from dwave.system import DWaveSampler, EmbeddingComposite\n",
    "\n",
    "qpu = DWaveSampler()\n",
    "print(f\"time estimation for 100 qubits, 1000 samples {qpu.solver.estimate_qpu_access_time(100, 1000)}us on {qpu.solver.name}\")"
   ]
  },
  {
   "cell_type": "code",
   "execution_count": null,
   "id": "cceced68-ce78-4644-a60f-4a52b63d2ffd",
   "metadata": {},
   "outputs": [],
   "source": [
    "# Then solve the problem on QPU\n",
    "# Embedding Composite is doing the minor embedding for you\n",
    "sampler = EmbeddingComposite(DWaveSampler())\n",
    "sampleset = sampler.sample(bqm, num_reads=5000, label='SDK Examples - Scheduling')"
   ]
  },
  {
   "cell_type": "code",
   "execution_count": null,
   "id": "bb080b3f-b3f3-4f15-9970-565c40abd508",
   "metadata": {},
   "outputs": [],
   "source": [
    "print(sampleset.lowest(atol=.5))                     "
   ]
  },
  {
   "cell_type": "markdown",
   "id": "c0358e63-37f4-46da-bcaa-2d3ef26d2811",
   "metadata": {},
   "source": [
    "## Map Colouring\n",
    "\n",
    "We are interested in this notebook: https://docs.ocean.dwavesys.com/en/stable/examples/map_kerberos.html"
   ]
  },
  {
   "cell_type": "code",
   "execution_count": null,
   "id": "ef740981-75f7-4d40-a86c-39ddd4936cf4",
   "metadata": {},
   "outputs": [],
   "source": [
    "import networkx as nx\n",
    "G = nx.read_adjlist('data/usa.adj', delimiter = ',')   "
   ]
  },
  {
   "cell_type": "code",
   "execution_count": null,
   "id": "7c36ebd9-8ba8-48a5-b8cb-c65c142f37a9",
   "metadata": {},
   "outputs": [],
   "source": [
    "states = G.nodes        \n",
    "borders = G.edges "
   ]
  },
  {
   "cell_type": "code",
   "execution_count": null,
   "id": "e0151519-25f3-41c3-bea7-4a8ff6b81237",
   "metadata": {},
   "outputs": [],
   "source": [
    "import dimod\n",
    "\n",
    "colors = [0, 1, 2, 3]\n",
    "\n",
    "dqm = dimod.DiscreteQuadraticModel()\n",
    "for state in states:            \n",
    "   dqm.add_variable(4, label=state)\n",
    "for state0, state1 in borders:          \n",
    "   dqm.set_quadratic(state0, state1, {(color, color): 1 for color in colors})"
   ]
  },
  {
   "cell_type": "code",
   "execution_count": null,
   "id": "ce8bc30e-1690-4e9a-a9ac-7df31d635305",
   "metadata": {},
   "outputs": [],
   "source": [
    "from dwave.system import LeapHybridDQMSampler"
   ]
  },
  {
   "cell_type": "code",
   "execution_count": null,
   "id": "5c79b6e3-1117-4c00-9801-2636e1e1ce22",
   "metadata": {},
   "outputs": [],
   "source": [
    "sampleset = LeapHybridDQMSampler().sample_dqm(dqm,\n",
    "                label='SDK Examples - Map Coloring DQM')  \n",
    "\n",
    "print(\"Energy: {}\\nSolution: {}\".format(\n",
    "       sampleset.first.energy, sampleset.first.sample))  "
   ]
  },
  {
   "cell_type": "code",
   "execution_count": null,
   "id": "3b9915d1-75f8-40cb-8056-56027deee81d",
   "metadata": {},
   "outputs": [],
   "source": [
    "import matplotlib.pyplot as plt       \n",
    "node_list = [list(G.nodes)[x:x+10] for x in range(0, 50, 10)]   \n",
    "node_list[4].append('ND')     \n",
    "# Adjust the next line if using a different map\n",
    "nx.draw(G, pos=nx.shell_layout(G, nlist = node_list), with_labels=True,\n",
    "        node_color=list(sampleset.first.sample.values()), node_size=400,\n",
    "        cmap=plt.cm.rainbow)                 \n",
    "plt.show()"
   ]
  },
  {
   "cell_type": "markdown",
   "id": "85c06214-c8de-4595-bd8a-d9c5b98d0c13",
   "metadata": {},
   "source": [
    "# Graph Partitioning\n",
    "The problem of interest here, which is NP-hard, is to try and find the best division of the graph’s nodes into two equal sets with a minimum number of edges between the two groups.\n",
    "\n",
    "See https://docs.ocean.dwavesys.com/en/stable/examples/inspector_graph_partitioning.html"
   ]
  },
  {
   "cell_type": "code",
   "execution_count": null,
   "id": "5084c62b-a80a-48b7-a966-1097ce3b7507",
   "metadata": {},
   "outputs": [],
   "source": [
    "import networkx as nx\n",
    "\n",
    "graph_nodes = 26\n",
    "G = nx.random_geometric_graph(n=graph_nodes, radius=.5, dim=2)"
   ]
  },
  {
   "cell_type": "code",
   "execution_count": null,
   "id": "8e13891e-be4e-4d62-924f-1b8e66b58540",
   "metadata": {},
   "outputs": [],
   "source": [
    "from collections import defaultdict\n",
    "from itertools import combinations\n",
    "\n",
    "gamma = 70\n",
    "Q = defaultdict(int)\n",
    "# Fill in Q matrix\n",
    "for u, v in G.edges:\n",
    "    Q[(u,u)] += 1\n",
    "    Q[(v,v)] += 1\n",
    "    Q[(u,v)] += -2\n",
    "for i in G.nodes:\n",
    "    Q[(i,i)] += gamma*(1-len(G.nodes))\n",
    "for i, j in combinations(G.nodes, 2):\n",
    "    Q[(i,j)] += 2*gamma"
   ]
  },
  {
   "cell_type": "code",
   "execution_count": null,
   "id": "48f1ea1c-3fdb-4420-a0b4-717d81bea6aa",
   "metadata": {},
   "outputs": [],
   "source": [
    "print(\"Maximum element is {:.2f} and minimum is {:.2f}.\".format(max(Q.values()), min(Q.values())))    "
   ]
  },
  {
   "cell_type": "code",
   "execution_count": null,
   "id": "559c0741-7d14-4d5b-a7b0-7457b34b3095",
   "metadata": {},
   "outputs": [],
   "source": [
    "import numpy as np\n",
    "from dwave.system import DWaveSampler, EmbeddingComposite\n",
    "\n",
    "# Import the problem inspector to begin data capture\n",
    "import dwave.inspector\n",
    "\n",
    "sampler = EmbeddingComposite(DWaveSampler())\n",
    "num_reads = 1000\n",
    "sampleset = sampler.sample_qubo(Q, num_reads=num_reads, \\\n",
    "                                label='SDK Examples - Inspector') "
   ]
  },
  {
   "cell_type": "code",
   "execution_count": null,
   "id": "6a0bfef2-6994-4cd9-9fcf-b492e881a0b0",
   "metadata": {},
   "outputs": [],
   "source": [
    "print(\"Number of nodes in one set is {}, in the other, {}. \\nEnergy is {}.\".format(\n",
    "       sum(sampleset.first.sample.values()),\n",
    "       graph_nodes - sum(sampleset.first.sample.values()),\n",
    "       sampleset.first.energy))"
   ]
  },
  {
   "cell_type": "code",
   "execution_count": null,
   "id": "afe78900-4ab5-4c1e-a42c-f5ec05697195",
   "metadata": {},
   "outputs": [],
   "source": [
    "dwave.inspector.show(sampleset)   "
   ]
  },
  {
   "cell_type": "markdown",
   "id": "3eac28cc-1798-41bb-89ee-f37bfb3a76a6",
   "metadata": {},
   "source": [
    "# Working with PyQUBO"
   ]
  },
  {
   "cell_type": "code",
   "execution_count": null,
   "id": "171c870d-8dea-4dc9-a375-c0119f8f0ed6",
   "metadata": {},
   "outputs": [],
   "source": [
    "#!pip install pyqubo"
   ]
  },
  {
   "cell_type": "code",
   "execution_count": null,
   "id": "003babcf-7d83-4e7d-ad2f-4c3e6f4e7e92",
   "metadata": {},
   "outputs": [],
   "source": [
    "from pyqubo import Spin\n",
    "s1, s2, s3, s4 = Spin(\"s1\"), Spin(\"s2\"), Spin(\"s3\"), Spin(\"s4\")\n",
    "H = (4*s1 + 2*s2 + 7*s3 + s4)**2\n",
    "model = H.compile()\n",
    "qubo, offset = model.to_qubo()\n",
    "print(qubo)"
   ]
  },
  {
   "cell_type": "code",
   "execution_count": null,
   "id": "3a350241-782a-4b1d-b5c6-795206f0496c",
   "metadata": {},
   "outputs": [],
   "source": [
    "import neal\n",
    "sampler = neal.SimulatedAnnealingSampler()\n",
    "bqm = model.to_bqm()\n",
    "sampleset = sampler.sample(bqm, num_reads=50)\n",
    "decoded_samples = model.decode_sampleset(sampleset)\n",
    "print(sampleset)\n",
    "best_sample = min(decoded_samples, key=lambda x: x.energy)\n",
    "best_sample.sample"
   ]
  },
  {
   "cell_type": "code",
   "execution_count": null,
   "id": "1871e336-988a-4cd3-ae6d-b64fc768b6f2",
   "metadata": {},
   "outputs": [],
   "source": []
  }
 ],
 "metadata": {
  "kernelspec": {
   "display_name": "Python 3 (ipykernel)",
   "language": "python",
   "name": "python3"
  },
  "language_info": {
   "codemirror_mode": {
    "name": "ipython",
    "version": 3
   },
   "file_extension": ".py",
   "mimetype": "text/x-python",
   "name": "python",
   "nbconvert_exporter": "python",
   "pygments_lexer": "ipython3",
   "version": "3.10.10"
  }
 },
 "nbformat": 4,
 "nbformat_minor": 5
}
