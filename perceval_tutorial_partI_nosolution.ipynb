{
 "cells": [
  {
   "cell_type": "code",
   "execution_count": null,
   "id": "9f1becea-85b2-4e10-9067-232cdad73816",
   "metadata": {},
   "outputs": [],
   "source": [
    "import perceval as pcvl\n",
    "import numpy as np\n",
    "from collections import Counter\n",
    "pcvl.__version__"
   ]
  },
  {
   "cell_type": "markdown",
   "id": "78c9f0ea-e8e4-4f1f-899b-3576f5c6f13e",
   "metadata": {},
   "source": [
    "# BasicStates\n",
    "\n",
    "In Linear Optical Circuits, photons can have many discrete degrees of freedom, called modes. \n",
    "It can be the frequency, the polarisation, the position, or all of them.\n",
    "\n",
    "We represent these degrees of freedom with Fock states. If we have $n$ photons over $m$ modes, the Fock state $|s_1,s_2,...,s_m\\rangle$ means we have $s_i$ photons in the $i^{th}$ mode. Note that $\\sum_{i=1}^m s_i =n$.\n",
    "\n",
    "In Perceval, we will use the module `pcvl.BasicState`"
   ]
  },
  {
   "cell_type": "markdown",
   "id": "92f74400-b996-4124-9d6b-13cded9f86b1",
   "metadata": {},
   "source": [
    "## Defining and manipulating BasicStates"
   ]
  },
  {
   "cell_type": "code",
   "execution_count": null,
   "id": "32d43504-e3d2-4498-85d0-f4bbeb3d76a9",
   "metadata": {},
   "outputs": [],
   "source": [
    "# BasicState can be constructed from a bra-ket string\n",
    "s=pcvl.BasicState(\"|0,1>\")\n",
    "# or from a list\n",
    "assert(s == pcvl.BasicState([0,1]))\n",
    "print(s[0], s[1])"
   ]
  },
  {
   "cell_type": "code",
   "execution_count": null,
   "id": "6d77956a-1469-4da8-b32f-50d2f9f33d50",
   "metadata": {},
   "outputs": [],
   "source": [
    "print(\"type of s is\", type(s))\n",
    "# BasicState will print as a string, s.n is the number of photons, s.m the number of modes (which is also the len of the BasicState)\n",
    "print(f\"s='{s}', n={s.n}, m={s.m}, m={len(s)}\")"
   ]
  },
  {
   "cell_type": "markdown",
   "id": "3b9ccb1c-cd8a-42c6-afdd-5a98a99a4de2",
   "metadata": {},
   "source": [
    "<div class=\"alert alert-info\">\n",
    "Note the type is <code>exqalibur.FockState</code> and not <code>pcvl.BasicState</code>!<br>\n",
    "&rarr; <code>perceval</code> library is using behind the scene a c++-optimized library <code>exqalibur</code> that is in charge of all the heavy lifting - we never use it directly, but it is where all the simulation work happens!\n",
    "</div>"
   ]
  },
  {
   "cell_type": "code",
   "execution_count": null,
   "id": "cba4a740-a733-4480-8a10-32a7425509b0",
   "metadata": {},
   "outputs": [],
   "source": [
    "# BasicState does not support assignment\n",
    "try:\n",
    "    s[0]=1\n",
    "except Exception as e:\n",
    "    print(\"ERROR:\", e)"
   ]
  },
  {
   "cell_type": "code",
   "execution_count": null,
   "id": "172ce92e-c82d-427a-83b2-adfad8daba26",
   "metadata": {},
   "outputs": [],
   "source": [
    "# let us define a function that does that!\n",
    "def assign(s, k, n_k):\n",
    "    r\"\"\"assigns n_k photon in the k-th mode of s, and returns the new BasicState\"\"\"\n",
    "    assert(isinstance(s, pcvl.BasicState))\n",
    "    assert(n_k < s.m)\n",
    "    ### ENTER CODE HERE\n",
    "    ### END CODE\n",
    "    return new_s\n",
    "\n",
    "# check if it works\n",
    "new_s = assign(s, 0, 1)\n",
    "assert(new_s == pcvl.BasicState(\"|1,1>\"))"
   ]
  },
  {
   "cell_type": "markdown",
   "id": "64125c31-601c-4514-9e44-83bf6387e395",
   "metadata": {},
   "source": [
    "### Working with annotations\n",
    "\n",
    "Instead of simple fock states, we can all annotate each photon with an annotation. In general an annotated photon is represented by `{x:y}`\n",
    "where `x` is the name of the annotation, and `y` its value - the value has to be numeric except for polarization.\n",
    "A special annotation named `P` is the photon polarization and `perceval` knows about its semantic - the value can be `H` (horizontal), `V` (vertical), `D` (diagonal)..."
   ]
  },
  {
   "cell_type": "code",
   "execution_count": null,
   "id": "29413be5-0106-4ddd-a585-80215514fefd",
   "metadata": {},
   "outputs": [],
   "source": [
    "a_bs = pcvl.BasicState(\"|{P:H},{P:V},{P:D}>\")\n",
    "print(a_bs, a_bs[0],a_bs[1])"
   ]
  },
  {
   "cell_type": "markdown",
   "id": "df7177ce-2792-4e66-b859-2f17ee5e55b1",
   "metadata": {},
   "source": [
    "However, you can use any name you like and even combine annotations:"
   ]
  },
  {
   "cell_type": "code",
   "execution_count": null,
   "id": "740229fa-4957-4b6c-b4b1-92d1c015bf7b",
   "metadata": {},
   "outputs": [],
   "source": [
    "pcvl.BasicState(\"|{color:0,P:H},{color:1,P:V}>\")"
   ]
  },
  {
   "cell_type": "markdown",
   "id": "79bb12db-0aa6-4fda-8586-d757f089d928",
   "metadata": {},
   "source": [
    "Annotation order does not matter:"
   ]
  },
  {
   "cell_type": "code",
   "execution_count": null,
   "id": "0f2b025f-23d0-4186-8863-c51d8ce0c187",
   "metadata": {},
   "outputs": [],
   "source": [
    "assert(pcvl.BasicState(\"|{color:0,P:H}>\")==pcvl.BasicState(\"|{P:H,color:0}>\"))"
   ]
  },
  {
   "cell_type": "markdown",
   "id": "5ed8a2a7-7aed-46d1-9856-e1359ab3aa0e",
   "metadata": {},
   "source": [
    "You can check if the basic state has an annotation and obtains the annotation of the photons on a specific mode:"
   ]
  },
  {
   "cell_type": "code",
   "execution_count": null,
   "id": "627e50c6-d357-4883-8171-389dd73d0ebc",
   "metadata": {},
   "outputs": [],
   "source": [
    "s=pcvl.BasicState(\"|{P:H,color:0},0,1>\")\n",
    "assert(s.has_annotations)\n",
    "print(s.get_mode_annotations(0))"
   ]
  },
  {
   "cell_type": "markdown",
   "id": "4c2e9f49-b16e-43f1-99df-45dec4b827a6",
   "metadata": {},
   "source": [
    "Each annotation behaves as a dictionary of key, value:"
   ]
  },
  {
   "cell_type": "code",
   "execution_count": null,
   "id": "bb5477a2-12ff-4b7c-a25c-24f3f47f7e19",
   "metadata": {},
   "outputs": [],
   "source": [
    "photon_idx = 0\n",
    "for k in range(s.m):\n",
    "    for annotation in s.get_mode_annotations(k):\n",
    "        photon_annotations=[]\n",
    "        for (annot_name,annot_value) in annotation:\n",
    "            photon_annotations.append(annot_name)\n",
    "        print(f\"photon {photon_idx} in mode {k} has annotations {photon_annotations}\")\n",
    "        photon_idx += 1"
   ]
  },
  {
   "cell_type": "code",
   "execution_count": null,
   "id": "cf7ce500-fddd-4668-bd16-df7d387f4951",
   "metadata": {},
   "outputs": [],
   "source": [
    "# let us define a function checking if one photon in a basic state has a polarization annotation\n",
    "def has_polarization(s):\n",
    "    if not s.has_annotations:\n",
    "        return False\n",
    "    ### ENTER CODE HERE\n",
    "    ### END CODE\n",
    "    return False\n",
    "assert(not has_polarization(pcvl.BasicState(\"|0,1>\")))\n",
    "assert(not has_polarization(pcvl.BasicState(\"|{color:0}>\")))\n",
    "assert(has_polarization(pcvl.BasicState(\"|1,{color:0,P:H},{_:1}>\")))"
   ]
  },
  {
   "cell_type": "markdown",
   "id": "8ac783cb-adcb-4ae5-bcc2-36853c9643cc",
   "metadata": {},
   "source": [
    "Last we can clear all annotations on a basic state:"
   ]
  },
  {
   "cell_type": "code",
   "execution_count": null,
   "id": "53a743e1-8f4b-4f1c-a6f9-9a2352b8c811",
   "metadata": {},
   "outputs": [],
   "source": [
    "print(\"before:\", s)\n",
    "s.clear_annotations()\n",
    "print(\"after:\", s)"
   ]
  },
  {
   "cell_type": "markdown",
   "id": "b4833cb0-ad86-4566-9136-d2402b7c4369",
   "metadata": {},
   "source": [
    "## Operations on BasicStates\n",
    "\n",
    "### tensor product\n",
    "`*` defines tensor product (`s1*s2` ~ $s_1\\otimes s_2$)"
   ]
  },
  {
   "cell_type": "code",
   "execution_count": null,
   "id": "08155e66-e2b6-4351-a78d-9b5388f1ff20",
   "metadata": {},
   "outputs": [],
   "source": [
    "print(pcvl.BasicState([0,1])*pcvl.BasicState([2,3]))"
   ]
  },
  {
   "cell_type": "markdown",
   "id": "465410c4-aa85-465a-bbbd-9e9ca273d0ac",
   "metadata": {},
   "source": [
    "And `**` the tensor power (`s**n` ~ $s^{\\otimes n}$), typically useful to initialize an input state"
   ]
  },
  {
   "cell_type": "code",
   "execution_count": null,
   "id": "1b5d4f32-5537-4d1c-b41d-660cae7e0555",
   "metadata": {},
   "outputs": [],
   "source": [
    "s2 = pcvl.BasicState([0,1])**4\n",
    "print(s2)"
   ]
  },
  {
   "cell_type": "code",
   "execution_count": null,
   "id": "507e466c-8d2b-4ca2-b9bb-24dc1d6ece6e",
   "metadata": {},
   "outputs": [],
   "source": [
    "# python slice operator applies smoothly\n",
    "print(s2[1:4])"
   ]
  },
  {
   "cell_type": "markdown",
   "id": "eab8be34-3c40-4e89-8918-ab4608bc76dd",
   "metadata": {},
   "source": [
    "# State Vectors\n",
    "\n",
    "A state vector is defined as a general quantum state: $\\sum_i \\alpha_i.s_i$ where $s_i$ are `BasicState`and $\\alpha_i$ their complex parameters/\n",
    "\n",
    "StateVectors can be build directly with `+`, `-` operators can be used to create state superposition:"
   ]
  },
  {
   "cell_type": "code",
   "execution_count": null,
   "id": "57d23490-884d-47e6-948b-f690d807e2b1",
   "metadata": {},
   "outputs": [],
   "source": [
    "sv1 = pcvl.BasicState([0,1])+pcvl.BasicState([1,0])"
   ]
  },
  {
   "cell_type": "code",
   "execution_count": null,
   "id": "ee6e9416-35ac-44aa-8da3-ae6c67b5465d",
   "metadata": {},
   "outputs": [],
   "source": [
    "# this is again an optimized `exqalibur` object!\n",
    "type(sv1)"
   ]
  },
  {
   "cell_type": "code",
   "execution_count": null,
   "id": "733c6e9b-389d-4068-bad2-407ce869ff11",
   "metadata": {},
   "outputs": [],
   "source": [
    "# let us check the value\n",
    "print(sv1)"
   ]
  },
  {
   "cell_type": "markdown",
   "id": "bfad4b4f-a1c0-4ea5-bd51-3b275b8e1da1",
   "metadata": {},
   "source": [
    "<div class=\"alert alert-info\">So $sv_1=\\frac{\\sqrt 2}{2}(\\ket{1,0}+\\ket{0,1})$. Note the <code>sqrt(2)/2</code> that was introduced: what even you are doing on the <code>StateVector</code>, they keep the parameters normalized so that $\\sum_i |\\alpha_i|^2=1$"
   ]
  },
  {
   "cell_type": "code",
   "execution_count": null,
   "id": "a10a38be-bd56-4475-bfe8-871aee7c3785",
   "metadata": {},
   "outputs": [],
   "source": [
    "# one easy way to check this is as follows, the multiplication of a StateVector by a constant does not change its value\n",
    "assert(2*pcvl.StateVector([0,1])==pcvl.StateVector([0,1]))"
   ]
  },
  {
   "cell_type": "markdown",
   "id": "aadcc6e9-e150-47c2-882d-8f437803e8be",
   "metadata": {},
   "source": [
    "except when building a superposed state:"
   ]
  },
  {
   "cell_type": "code",
   "execution_count": null,
   "id": "fd71fcce-8dc1-405b-bc5d-202fcd5ad44d",
   "metadata": {},
   "outputs": [],
   "source": [
    "sv2 = pcvl.StateVector([0,1])-2j*pcvl.StateVector([2,3])\n",
    "print(sv2)"
   ]
  },
  {
   "cell_type": "markdown",
   "id": "faacdf4e-21be-48f9-aad8-f83ebd847f5d",
   "metadata": {},
   "source": [
    "<div class=\"alert alert-info\">\n",
    "    Did you notice that it is being represented using `2*sqrt(5)/5` ($\\frac{2\\sqrt{5}}{5}$) and not numerical values? This is a built-in feature trying to recognize remarkable numbers when we print them - this helps the reader. This number simplification is built in the string conversion and can be disabled by addint `nsimplify=False` parameter in the implicit `__str__` function used to print the `StateVector` as follows \n",
    "</div>"
   ]
  },
  {
   "cell_type": "code",
   "execution_count": null,
   "id": "e5d1a31e-f8e8-4cc9-886d-d3d4df0183bb",
   "metadata": {},
   "outputs": [],
   "source": [
    "# switch off number conversion\n",
    "print(sv2.__str__(nsimplify=False))"
   ]
  },
  {
   "cell_type": "markdown",
   "id": "d1c66779-3384-4c32-8e96-83c9f58353d3",
   "metadata": {},
   "source": [
    "<div class=\"alert alert-warning\">This is clearly less intuitive but we now see that the parameters are actually complex values!!!</div>\n",
    "\n",
    "We can also use `pdisplay` to propose an even nicer representation, where we see the different components of the `StateVector`:"
   ]
  },
  {
   "cell_type": "code",
   "execution_count": null,
   "id": "8d0b21d3-4642-49bc-9cf5-b8e345abcb90",
   "metadata": {},
   "outputs": [],
   "source": [
    "pcvl.pdisplay(sv2) # you can add nsimplify=False here too!"
   ]
  },
  {
   "cell_type": "markdown",
   "id": "63687ecc-71a3-4839-aa69-94c6a2c0745f",
   "metadata": {},
   "source": [
    "Finally, we can iterate manually through the different components of a state vector:"
   ]
  },
  {
   "cell_type": "code",
   "execution_count": null,
   "id": "d04fa2de-86ad-43cd-bc7b-b65f590e3d46",
   "metadata": {},
   "outputs": [],
   "source": [
    "for bs, alpha in sv2:\n",
    "    # here we invoke manually the number simplification - easier to read\n",
    "    print(alpha, pcvl.simple_complex(alpha)[1], bs)"
   ]
  },
  {
   "cell_type": "markdown",
   "id": "ecbc9a36-a083-4102-97d0-c6ec7b135140",
   "metadata": {},
   "source": [
    "We can combine states with different number of photons (`-2*sqrt(5)*I/5*|2,3>+sqrt(5)/5*|0,1>`) but we cannot combine states with different number of modes - it does not make sense:"
   ]
  },
  {
   "cell_type": "code",
   "execution_count": null,
   "id": "d6209a80-d160-48a1-8920-4d8073108492",
   "metadata": {},
   "outputs": [],
   "source": [
    "try:\n",
    "    pcvl.BasicState(\"|0,1>\")+pcvl.BasicState(\"|0,1,2>\")\n",
    "except:\n",
    "    print(\"!!! Exception was generated: we cannot have superposed states with different number of modes !!!\")"
   ]
  },
  {
   "cell_type": "code",
   "execution_count": null,
   "id": "4124970d-db46-4137-956e-09f4b14f0877",
   "metadata": {},
   "outputs": [],
   "source": [
    "# ok - we can now manipulate StateVector - let us define a function giving us the probability of having one or mode photons in a given mode\n",
    "def photon_probability(sv, mode):\n",
    "    r\"\"\"should return the probability that when we measure `sv`, we observe at least one photon in mode `mode`\"\"\"\n",
    "    assert(mode < sv.m)\n",
    "    probability = 0\n",
    "    ### ENTER CODE HERE\n",
    "    ### END CODE\n",
    "    return probability"
   ]
  },
  {
   "cell_type": "code",
   "execution_count": null,
   "id": "89f446cf-ba86-49b3-a4ed-51f311b4ad96",
   "metadata": {},
   "outputs": [],
   "source": [
    "# let us check this\n",
    "assert(abs(photon_probability(pcvl.BasicState([0,1])+pcvl.BasicState([1,0]),0)-0.5)<1e-6)\n",
    "assert(abs(photon_probability(pcvl.BasicState([0,1,0])+pcvl.BasicState([0,1,0]),0)-0)<1e-6)\n",
    "assert(abs(photon_probability(sv2, 0)-0.8)<1e-6)"
   ]
  },
  {
   "cell_type": "markdown",
   "id": "f65b58ae-6034-4d81-b0d8-ef1df39fdf1e",
   "metadata": {},
   "source": [
    "Now we can also use built-in `StateVector` methods providing sampling and measurement: "
   ]
  },
  {
   "cell_type": "code",
   "execution_count": null,
   "id": "fbe49343-120e-4c53-958a-23f063295098",
   "metadata": {},
   "outputs": [],
   "source": [
    "print(sv2)\n",
    "c = Counter()\n",
    "for s in sv2.samples(100): \n",
    "    c[s] += 1\n",
    "print(c)"
   ]
  },
  {
   "cell_type": "code",
   "execution_count": null,
   "id": "b2934b7e-a732-4346-97cf-381dc418feb4",
   "metadata": {},
   "outputs": [],
   "source": [
    "sv_4 = pcvl.StateVector(\"|0,1,1>\")-1j*pcvl.StateVector(\"|1,1,0>\")\n",
    "map_measure_sv_4 = sv_4.measure([1])\n",
    "for s, (p, sv) in map_measure_sv_4.items(): \n",
    "    print(s, p, sv)"
   ]
  },
  {
   "cell_type": "code",
   "execution_count": null,
   "id": "661ba75c-ed83-46c1-b9b5-aa3cc0549bd2",
   "metadata": {},
   "outputs": [],
   "source": [
    "map_measure_sv_4 = sv_4.measure([2])\n",
    "for s, (p, sv) in map_measure_sv_4.items(): \n",
    "    print(s, p, sv)"
   ]
  },
  {
   "cell_type": "markdown",
   "id": "0dd97622-14ca-41c4-bc0a-ad2eec49435e",
   "metadata": {},
   "source": [
    "## Modeling of a noisy photon source with a SVDistribution\n",
    "\n",
    "A `SVDistribution` is a mixed state of `StateVector` - it is commonly used to model noisy photon source.\n",
    "\n",
    "For that let us use the `pcvl.Source` object, it takes the following parameters:\n",
    "* `emission_probability`: `float` = 1,\n",
    "* `multiphoton_component`: `float` = 0,\n",
    "* `indistinguishability`: `float` = 1,\n",
    "* `losses`: `float` = 0\n",
    "  "
   ]
  },
  {
   "cell_type": "markdown",
   "id": "9e2a1d17-3b66-4a38-ba79-4f750b2e2d98",
   "metadata": {},
   "source": [
    "### Perfect Source\n",
    "\n",
    "<img src=\"img/perfect_source.png\">"
   ]
  },
  {
   "cell_type": "code",
   "execution_count": null,
   "id": "f68f4757-b01b-4d72-bfa7-976cdecf320a",
   "metadata": {},
   "outputs": [],
   "source": [
    "perfect_source = pcvl.Source(emission_probability=1, multiphoton_component=0, indistinguishability=1, losses=0)\n",
    "pcvl.pdisplay(perfect_source.probability_distribution())"
   ]
  },
  {
   "cell_type": "markdown",
   "id": "a0bba066-15e6-4edb-813c-a1854f42a1b4",
   "metadata": {},
   "source": [
    "<div class=\"alert alert-info\">\n",
    "    In the perfect case, the source emits a sequence of `|1>`\n",
    "</div>"
   ]
  },
  {
   "cell_type": "markdown",
   "id": "4e17aeb7-caa3-44d6-ba1f-03e0b8bdb503",
   "metadata": {},
   "source": [
    "### Real World Photon source\n",
    "\n",
    "<img src=\"img/realworld_source.png\">"
   ]
  },
  {
   "cell_type": "code",
   "execution_count": null,
   "id": "c7e62ffa-2557-4464-882f-33ac9cc1cd76",
   "metadata": {},
   "outputs": [],
   "source": [
    "realworld_source = pcvl.Source(emission_probability=0.5, multiphoton_component=0.02, indistinguishability=0.95, losses=0.7)\n",
    "pcvl.pdisplay(realworld_source.probability_distribution())\n",
    "probability_1photon = 0\n",
    "for sv, p in realworld_source.probability_distribution().items():\n",
    "    probability_1photon += photon_probability(sv, 0)*p\n",
    "print(\"probability of seing a photon in the output:\", probability_1photon)"
   ]
  },
  {
   "cell_type": "markdown",
   "id": "62a76705-52a5-41b9-9c5b-b85c00604346",
   "metadata": {},
   "source": [
    "<div class=\"alert alert-warning\">\n",
    "    In the real world, with the parameters given to the source, 85% of the time, no photon is detected, 14.5% of the time, single indistinguishable photons are emitted (represented with <code>{_:0}</code>) - and the rest is a combination of g_2 and distinguishable photons\n",
    "</div>"
   ]
  },
  {
   "cell_type": "markdown",
   "id": "eac02765-aa02-4c6c-a3ae-0655d14dbc53",
   "metadata": {},
   "source": [
    "# LO-Components\n",
    "\n",
    "The linear optical components are the elementary blocks which will act on our Fock states.\n",
    "\n",
    "It's important to know all the possible components that can be found in Perceval and understand their effects."
   ]
  },
  {
   "cell_type": "code",
   "execution_count": null,
   "id": "1bace448-e32d-4397-b9c1-a4021ef4e03c",
   "metadata": {},
   "outputs": [],
   "source": [
    "# the components we are interested in are in unitary_components or non_unitary_components\n",
    "# see https://perceval.quandela.net/docs/components.html for the full list\n",
    "import perceval.components.unitary_components as pcvl_comp"
   ]
  },
  {
   "cell_type": "code",
   "execution_count": null,
   "id": "93403ff9-eebd-46fe-87aa-5813c5cfad02",
   "metadata": {},
   "outputs": [],
   "source": [
    "# let us start with permutation - we define permutation by a permutation list\n",
    "perm_1=pcvl_comp.PERM([2,0,1])\n",
    "# name of the component\n",
    "print(perm_1.name)\n",
    "# the definition of the component\n",
    "print(perm_1.describe())\n",
    "# the unitary matrix\n",
    "pcvl.pdisplay(perm_1.definition())\n",
    "# and the visual representation\n",
    "pcvl.pdisplay(perm_1)"
   ]
  },
  {
   "cell_type": "code",
   "execution_count": null,
   "id": "cfc1a3cc-2736-4e10-8f7c-ea73827c2c9f",
   "metadata": {},
   "outputs": [],
   "source": [
    "# let us define a function generating the permutation inverting first and last mode\n",
    "def invert_first_last(m):\n",
    "    ## ENTER CODE HERE\n",
    "    ## END_CODE\n",
    "    return perm"
   ]
  },
  {
   "cell_type": "code",
   "execution_count": null,
   "id": "ad7924fc-bc5e-404b-942a-16728f0e1f63",
   "metadata": {},
   "outputs": [],
   "source": [
    "perm_2 = invert_first_last(3)\n",
    "print(\"the unitary:\")\n",
    "U_perm_2=perm_2.compute_unitary()\n",
    "assert(U_perm_2[0,0]==0)\n",
    "assert(U_perm_2[0,1]==0)\n",
    "assert(U_perm_2[0,2]==1)\n",
    "assert(U_perm_2[1,0]==0)\n",
    "assert(U_perm_2[1,1]==1)\n",
    "assert(U_perm_2[1,2]==0)\n",
    "assert(U_perm_2[2,0]==1)\n",
    "assert(U_perm_2[2,1]==0)\n",
    "assert(U_perm_2[2,2]==0)\n",
    "pcvl.pdisplay(U_perm_2)\n",
    "print(\"the circuit:\")\n",
    "pcvl.pdisplay(perm_2)"
   ]
  },
  {
   "cell_type": "code",
   "execution_count": null,
   "id": "2f0d2498-44c0-4928-a2eb-5b4dc663f62a",
   "metadata": {},
   "outputs": [],
   "source": [
    "# let us do the same with beamsplitters !\n",
    "bs=pcvl_comp.BS()\n",
    "# name of the component\n",
    "print(bs.name)\n",
    "# the definition of the component\n",
    "print(bs.describe())\n",
    "# the unitary matrix\n",
    "pcvl.pdisplay(bs.definition())\n",
    "# the actual unitary matrix\n",
    "pcvl.pdisplay(bs.compute_unitary())\n",
    "# the visual representation\n",
    "pcvl.pdisplay(bs)"
   ]
  },
  {
   "cell_type": "code",
   "execution_count": null,
   "id": "f59a9997-9ccc-48fb-ba17-35c1a6c95524",
   "metadata": {},
   "outputs": [],
   "source": [
    "bs_rx = pcvl_comp.BS.Rx()  # By default a beam splitter follows the Rx gate convention (see documentation), so bs=BS() has the same matrix\n",
    "\n",
    "# But other conventions exist too:\n",
    "bs_h = pcvl_comp.BS.H() \n",
    "bs_ry = pcvl_comp.BS.Ry()\n",
    "\n",
    "## Check the difference in the unitary definition:\n",
    "print(\"BS.Rx() unitary matrix\")\n",
    "pcvl.pdisplay(bs_rx.definition())\n",
    "print(\"BS.H() unitary matrix\")\n",
    "pcvl.pdisplay(bs_h.definition())\n",
    "print(\"BS.Ry() unitary matrix\")\n",
    "pcvl.pdisplay(bs_ry.definition())\n",
    "print(\"BS displays its convention as a small label\")\n",
    "pcvl.pdisplay(bs_ry)"
   ]
  },
  {
   "cell_type": "code",
   "execution_count": null,
   "id": "0ba77caa-7e03-4034-88b2-d70ee551bdff",
   "metadata": {},
   "outputs": [],
   "source": [
    "# You can ask for the symbolic matrix value of your component with the attribute U\n",
    "my_ps = pcvl_comp.PS(phi=np.pi/8)\n",
    "pcvl.pdisplay(my_ps.U)\n",
    "# And for the numerical value with the method compute_unitary\n",
    "pcvl.pdisplay(my_ps.compute_unitary())\n",
    "print(\"\")\n",
    "\n",
    "# If you do it for a Beam-Splitter, you can see that by default theta=pi/2, and the phi's are 0\n",
    "print(\"A default beam-splitter:\")\n",
    "pcvl.pdisplay(pcvl_comp.BS().compute_unitary())  #this is a balanced Beamsplitter\n",
    "print(\"\")\n",
    "\n",
    "# To control the value of the parameters of a component, several choices are possible: \n",
    "#  - by setting a numerical value during the creation of the component\n",
    "print(\"A Beam-Splitter with a numerical value for theta:\")\n",
    "bs_rx = pcvl_comp.BS.Rx(theta=10)\n",
    "pcvl.pdisplay(bs_rx.U)\n",
    "pcvl.pdisplay(bs_rx.compute_unitary())\n",
    "print(\"\")"
   ]
  },
  {
   "cell_type": "code",
   "execution_count": null,
   "id": "c4637601-db4a-4c75-9c1d-48265ab0beaf",
   "metadata": {},
   "outputs": [],
   "source": [
    "#  - by using the syntax pcvl.P to create a symbolic variable \n",
    "#    (note that you cannot compute the numerical value of your component anymore)\n",
    "print(\"A Phase Shifter with a symbolic value for phi:\")\n",
    "ps = pcvl_comp.PS(phi=pcvl.P('\\psi'))\n",
    "pcvl.pdisplay(ps.U)\n",
    "print(\"\")\n",
    "\n",
    "#  - you can still modify the value of a symbolic variable after its creation\n",
    "#    This is not true for a numerical variable!\n",
    "print(\"A beam-splitter with a symbolic variable...\")\n",
    "bs_rx = pcvl_comp.BS(theta=pcvl.P('a'))\n",
    "pcvl.pdisplay(bs_rx.U)\n",
    "bs_rx.assign({'a':10})\n",
    "print(\"... set to a numerical value\")\n",
    "pcvl.pdisplay(bs_rx.compute_unitary())\n",
    "print(\"\")"
   ]
  },
  {
   "cell_type": "code",
   "execution_count": null,
   "id": "70f1618f-9aea-4cae-92df-4a9efd0ac408",
   "metadata": {},
   "outputs": [],
   "source": [
    "pcvl.pdisplay(bs_rx)"
   ]
  },
  {
   "cell_type": "markdown",
   "id": "6d783886-27a6-4bde-a2b7-a08d604baf31",
   "metadata": {},
   "source": [
    "# LO-Circuits\n",
    "\n",
    "From the LO-components, we can build a LO-circuit, i.e. a sequence of those components acting on our different modes.\n",
    "\n",
    "## 1. Syntax"
   ]
  },
  {
   "cell_type": "code",
   "execution_count": null,
   "id": "319ee53b-2ab6-40d8-bbba-bb283e22302a",
   "metadata": {},
   "outputs": [],
   "source": [
    "circuit = pcvl.Circuit(3)  # Create a 3 mode circuit\n",
    "\n",
    "\n",
    "circuit.add(0, pcvl_comp.BS())\n",
    "circuit.add(0, pcvl_comp.PS(phi=np.pi/2)).add(1, pcvl_comp.PS(phi=pcvl.P('phi'))).add(1, pcvl_comp.BS())\n",
    "\n",
    "# Equivalent syntax:\n",
    "# circuit // BS() // PS(phi=np.pi/2) // (1, PS(phi=pcvl.P('phi'))) // (1, BS())\n",
    "\n",
    "pcvl.pdisplay(circuit.U)\n",
    "pcvl.pdisplay(circuit)"
   ]
  },
  {
   "cell_type": "markdown",
   "id": "dfb7cb03-4081-416d-b569-af9aace51268",
   "metadata": {},
   "source": [
    "The syntax ``pcvl.P('phi')`` allows you to use parameters in the circuit, where you can assign a value or not. The behavior of the parameters of a circuit is similar to the case of the components.\n",
    "\n",
    "For instance, you can use :"
   ]
  },
  {
   "cell_type": "code",
   "execution_count": null,
   "id": "9f6a0b1e-1e5d-4f85-863f-d86ad692bff5",
   "metadata": {},
   "outputs": [],
   "source": [
    "params=circuit.get_parameters()\n",
    "print(params) #list of the parameters\n",
    "\n",
    "# the value is None, but we can change that with :\n",
    "\n",
    "params[0].set_value(np.pi)\n",
    "pcvl.pdisplay(circuit.compute_unitary(use_symbolic=False))\n",
    "pcvl.pdisplay(circuit)"
   ]
  },
  {
   "cell_type": "code",
   "execution_count": null,
   "id": "6a4a284c-cece-45f3-b7d4-fae77984b6fb",
   "metadata": {},
   "outputs": [],
   "source": [
    "# let us combine perm_2 with perm_2 to build identity\n",
    "circuit = perm_2 // perm_2\n",
    "pcvl.pdisplay(circuit.U)\n",
    "pcvl.pdisplay(circuit)"
   ]
  },
  {
   "cell_type": "markdown",
   "id": "7d7d403a-9ec9-4f9f-97af-baa1bfe8cd7f",
   "metadata": {},
   "source": [
    "## 2. Mach-Zehnder Interferometers\n",
    "\n",
    "The beamsplitter's angle $\\theta$ can also be defined as a parameter.\n",
    "\n",
    "However, as the reflexivity depends on the mirror, it's hard to have adaptibility on the angle. \n",
    "Therefore, in practice, we use a [Mach-Zehnder Interferometer](https://en.wikipedia.org/wiki/Mach%E2%80%93Zehnder_interferometer). \n",
    "\n",
    "The beamsplitter with a parameterised $\\theta$ is therefore implemented with a parameterised phase shifter $\\phi$ between two fixed beamsplitters.\n",
    "\n",
    "Let us try to reproduce the experiment from the presentation:\n",
    "<img src=\"img/mzi.png\">\n"
   ]
  },
  {
   "cell_type": "code",
   "execution_count": null,
   "id": "d4c8a2fa-9096-4d48-973c-fc69f77b6c0f",
   "metadata": {},
   "outputs": [],
   "source": [
    "# Define the variable `mzi`to be a circuit implementing this schema. We want the phase-shifter on the top arm to be a parameter with 'phi' value\n",
    "### ENTER CODE HERE\n",
    "### END CODE\n",
    "pcvl.pdisplay(mzi)"
   ]
  },
  {
   "cell_type": "code",
   "execution_count": null,
   "id": "e1abbae0-7020-499d-9ad7-9306d95acb2c",
   "metadata": {},
   "outputs": [],
   "source": [
    "import matplotlib.pyplot as plt\n",
    "\n",
    "## We create a list of all different values for phi in the range [0,2*pi[\n",
    "X = np.linspace(0, 2*np.pi, 1000)\n",
    "Y = []\n",
    "for phi in X:\n",
    "    phase = mzi.get_parameters()[0]\n",
    "    phase.set_value(phi)\n",
    "    # we are interested in mzi.compute_unitary()[0,0] which is the probability of detecting a photon in first output mode\n",
    "    Y.append(abs(mzi.compute_unitary()[0,0])**2)\n",
    "   \n",
    "plt.plot(X, Y)\n",
    "plt.xlabel(\"phi\")\n",
    "plt.ylabel(\"R\")\n",
    "plt.show()"
   ]
  },
  {
   "cell_type": "markdown",
   "id": "414c3cb7-8193-4859-960e-39a06f9a0aa3",
   "metadata": {},
   "source": [
    "## 3. Universal Circuits\n",
    "\n",
    "An operation on the modes of our circuit can also be expressed as a unitary.\n",
    "\n",
    "For three modes, the unitary $U=\\begin{pmatrix}\n",
    "a_{1,1} & a_{1,2} & a_{1,3}\\\\\n",
    "a_{2,1} & a_{2,2} & a_{2,3} \\\\ \n",
    "a_{3,1} & a_{3,2} & a_{3,3}\n",
    "\\end{pmatrix}$ performs the following operation on the Fock state basis:\n",
    "\n",
    "$$\\begin{array}{rcl}\n",
    "|1,0,0\\rangle &  \\mapsto&  a_{1,1}|1,0,0\\rangle + a_{1,2}|0,1,0\\rangle + a_{1,3}|0,0,1\\rangle\\\\\n",
    "|0,1,0\\rangle &  \\mapsto&  a_{2,1}|1,0,0\\rangle + a_{2,2}|0,1,0\\rangle + a_{2,3}|0,0,1\\rangle\\\\\n",
    "|0,0,1\\rangle &  \\mapsto&  a_{3,1}|1,0,0\\rangle + a_{3,2}|0,1,0\\rangle + a_{3,3}|0,0,1\\rangle\n",
    "\\end{array}$$"
   ]
  },
  {
   "cell_type": "markdown",
   "id": "c4fdadb7-bcd3-43c6-a48c-5ec9ee3b3e40",
   "metadata": {},
   "source": [
    "Since 1994, we know that any $U$ on the modes can be implemented as an LO-circuit [Reck's et al](https://journals.aps.org/prl/abstract/10.1103/PhysRevLett.73.58).\n",
    "\n",
    "This decomposition can be done easily in Perceval using beamsplitters and phase-shifters as follows. "
   ]
  },
  {
   "cell_type": "code",
   "execution_count": null,
   "id": "3bb04181-4ea5-43fe-9d5a-7c92b861cf0d",
   "metadata": {},
   "outputs": [],
   "source": [
    "## From any unitary\n",
    "n = 3\n",
    "U = pcvl.Matrix.random_unitary(n)\n",
    "\n",
    "circuit_u = pcvl.Circuit.decomposition(U, pcvl_comp.BS(theta=pcvl.P('theta'),phi_tr=pcvl.P('phi')), phase_shifter_fn=pcvl_comp.PS)\n",
    "\n",
    "pcvl.pdisplay(circuit_u)"
   ]
  },
  {
   "cell_type": "code",
   "execution_count": null,
   "id": "1f474f50-badc-495f-be5f-41fdc1497a52",
   "metadata": {},
   "outputs": [],
   "source": [
    "print(\"The distance between the two unitaries is\", np.linalg.norm(U-circuit_u.compute_unitary()))"
   ]
  },
  {
   "cell_type": "code",
   "execution_count": null,
   "id": "1a80c0b3-116c-4804-8510-0c3c77a75a79",
   "metadata": {},
   "outputs": [],
   "source": [
    "# do the same, but do not use a parameterable beamsplitter, but rather a mzi as defined here\n",
    "mzi=pcvl.Circuit(2) // pcvl_comp.BS() // pcvl_comp.PS(pcvl.P(\"phi1\")) //  pcvl_comp.BS()  //  pcvl_comp.PS(pcvl.P(\"phi2\"))\n",
    "\n",
    "### ENTER CODE HERE\n",
    "### END CODE\n",
    "\n",
    "pcvl.pdisplay(circuit_u_2)"
   ]
  },
  {
   "cell_type": "code",
   "execution_count": null,
   "id": "b2308a18-e57a-48b2-9b81-5e050db1a92e",
   "metadata": {},
   "outputs": [],
   "source": [
    "print(\"The distance between the two unitaries is\", np.linalg.norm(U-circuit_u_2.compute_unitary()))"
   ]
  },
  {
   "cell_type": "markdown",
   "id": "0e71f441-0bf7-4b8d-aefa-83a312a78f9a",
   "metadata": {},
   "source": [
    "## 4. Black Box\n",
    "\n",
    "To improve readibility, the circuit can be constructed in multiple steps which are then combined as black boxes. This will also help when we'll need generic operations.\n"
   ]
  },
  {
   "cell_type": "code",
   "execution_count": null,
   "id": "be658ac2-2689-4308-8f4d-cfe3984b7377",
   "metadata": {},
   "outputs": [],
   "source": [
    "pre_MZI = (pcvl.Circuit(4, name=\"Bell State Prepar.\")\n",
    "           .add(0, pcvl_comp.BS())\n",
    "           .add(2, pcvl_comp.BS())\n",
    "           .add(1, pcvl_comp.PERM([1, 0])))\n",
    "\n",
    "upper_MZI = (pcvl.Circuit(2, name=\"upper MZI\")\n",
    "             .add(0, pcvl_comp.PS(phi=pcvl.P('phi_0')))\n",
    "             .add(0, pcvl_comp.BS())\n",
    "             .add(0, pcvl_comp.PS(phi=pcvl.P('phi_2')))\n",
    "             .add(0, pcvl_comp.BS()))\n",
    "\n",
    "lower_MZI = (pcvl.Circuit(2, name=\"lower MZI\")\n",
    "             .add(0, pcvl_comp.PS(phi=pcvl.P('phi_1')))\n",
    "             .add(0, pcvl_comp.BS())\n",
    "             .add(0, pcvl_comp.PS(phi=pcvl.P('phi_3')))\n",
    "             .add(0, pcvl_comp.BS()))\n",
    "\n",
    "chip = (pcvl.Circuit(4)\n",
    "              .add(0, pre_MZI)\n",
    "              .add(0, upper_MZI, merge=False)\n",
    "              .add(2, lower_MZI, merge=False))\n",
    "\n",
    "pcvl.pdisplay(chip)"
   ]
  },
  {
   "cell_type": "code",
   "execution_count": null,
   "id": "3e34b4dd-75ce-48b0-9858-82da0ceac0fb",
   "metadata": {},
   "outputs": [],
   "source": [
    "## You can still display the inside of black boxes with:\n",
    "pcvl.pdisplay(chip, recursive=True)"
   ]
  },
  {
   "cell_type": "markdown",
   "id": "c3a2cfda-ff75-4730-816f-8c64999ec66d",
   "metadata": {},
   "source": [
    "# Simulation\n",
    "\n",
    "Up to this point, we have focused on creating circuits.\n",
    "It's time to learn how to sample from them or describe their output distribution, on many different inputs."
   ]
  },
  {
   "cell_type": "markdown",
   "id": "995fb8b1-3594-4cfc-bcce-fd9bd76c0762",
   "metadata": {},
   "source": [
    "## 1. Computing probabilities\n",
    "\n",
    "For this part, we will take the [Hong-Ou-Mandel](https://en.wikipedia.org/wiki/Hong%E2%80%93Ou%E2%80%93Mandel_effect) experience as an example.\n",
    "\n",
    "It's one of the simplest experiments and yet it is very useful.\n",
    "\n",
    "Making two indistinguishable photons, one in each mode, enter one balanced beamsplitter $BS=\\frac{1}{\\sqrt{2}} \\left[\\begin{matrix}1 & 1\\\\1& -1\\end{matrix}\\right]$, we expect the outcome to be:\n",
    "\n",
    "$$|1,1\\rangle \\mapsto \\frac{|2,0\\rangle - |0,2\\rangle}{\\sqrt{2}}  $$\n",
    "\n",
    "We will show how to verify this in the next steps using the Naive backend to recover the full probability distribution."
   ]
  },
  {
   "cell_type": "code",
   "execution_count": null,
   "id": "11973977-eb3d-402a-9930-c7fefc734956",
   "metadata": {},
   "outputs": [],
   "source": [
    "circuit = pcvl.Circuit(2) // pcvl_comp.BS.H()\n",
    "pcvl.pdisplay(circuit)"
   ]
  },
  {
   "cell_type": "markdown",
   "id": "5f666c22-2eff-428f-8be9-b83c077474cf",
   "metadata": {},
   "source": [
    "### Getting probability distribution with computing backend"
   ]
  },
  {
   "cell_type": "code",
   "execution_count": null,
   "id": "d4de50a6-81a8-492f-873f-cb8edcfba317",
   "metadata": {},
   "outputs": [],
   "source": [
    "backend = pcvl.BackendFactory.get_backend(\"Naive\")\n",
    "backend.set_circuit(circuit)\n",
    "backend.set_input_state(pcvl.BasicState([1,1]))\n",
    "print(backend.prob_amplitude(pcvl.BasicState([2,0])))  #note that it's the amplitude !\n",
    "print(backend.prob_amplitude(pcvl.BasicState([0,2])))\n",
    "print(backend.probability(pcvl.BasicState([0,2])))"
   ]
  },
  {
   "cell_type": "code",
   "execution_count": null,
   "id": "8cfafac6-4fe6-42b7-877c-53bd4ed142a5",
   "metadata": {},
   "outputs": [],
   "source": [
    "\n",
    "\n",
    "\n",
    "## We can also use the Analyser module to compute a table of probabilities\n",
    "## The Analyser uses a Processor to work with. A Processor aims at simulating a photonic source plugged into a circuit\n",
    "## with a given backend.\n",
    "## The main syntax is :\n",
    "## >>> p = pcvl.Processor(backend_name, circuit, source)\n",
    "p = pcvl.Processor(\"Naive\", circuit)\n",
    "analyzer = pcvl.algorithm.Analyzer(p, [pcvl.BasicState([1,1])], '*')\n",
    "pcvl.pdisplay(analyzer)"
   ]
  },
  {
   "cell_type": "code",
   "execution_count": null,
   "id": "4aa5939d-ab0f-411f-952f-656980673014",
   "metadata": {},
   "outputs": [],
   "source": [
    "# Let us do that on a random unitary\n",
    "\n",
    "randU=pcvl.Unitary(pcvl.Matrix.random_unitary(3))   \n",
    "input=pcvl.BasicState([1,1,0])\n",
    "\n",
    "p=pcvl.Processor(\"SLOS\", randU)  #We can put in the processor a pcvl.Unitary instead of a circuit ! We don't need to use pcvl.decomposition\n",
    "analyzer= pcvl.algorithm.Analyzer(p, [input], '*')\n",
    "pcvl.pdisplay(analyzer)"
   ]
  },
  {
   "cell_type": "markdown",
   "id": "d98af61f-c725-4ed9-a906-76c60e56c36e",
   "metadata": {},
   "source": [
    "### 2. Sampling\n",
    "\n",
    "Although it's crucial to compute the output distribution, it's not what we can expect from a photonic chip. Indeed, realistically, we only can obtain a single sample from the distribution each time we run the circuit. This can be done using the backend SLOS.\n"
   ]
  },
  {
   "cell_type": "code",
   "execution_count": null,
   "id": "37514085-7da2-4cf0-b742-1a9cbb6b116e",
   "metadata": {},
   "outputs": [],
   "source": [
    "p = pcvl.Processor(\"SLOS\", pcvl_comp.BS())\n",
    "p.with_input(pcvl.BasicState([1,1]))\n",
    "\n",
    "# The sampler holds 'probs', 'sample_count' and 'samples' calls. You can use the one that fits your needs!\n",
    "sampler = pcvl.algorithm.Sampler(p)  \n",
    "\n",
    "# A sampler call will return a Python dictionary containing sampling results, and two performance scores\n",
    "# sample_count = sampler.sample_count(1000)\n",
    "# sample_count contains {'results': <actual count>, 'physical_perf': float [0.0 - 1.0], 'logical_perf': float [0.0 - 1.0]}\n",
    "sample_count = sampler.sample_count(1000)\n",
    "print(sample_count['results'])\n"
   ]
  },
  {
   "cell_type": "code",
   "execution_count": null,
   "id": "0c53c022-d132-4968-9902-38d7b2a1f8c6",
   "metadata": {},
   "outputs": [],
   "source": [
    "# Let us do the same for the random matrix with 2 photon inputs on mode 0 and 1\n",
    "# Define processor and input - you can change backend - see https://perceval.quandela.net/docs/backends.html\n",
    "\n",
    "### ENTER CODE HERE\n",
    "### END CODE\n",
    "\n",
    "sampler = pcvl.algorithm.Sampler(p)  \n",
    "sample_count = sampler.sample_count(1000)\n",
    "print(sample_count['results'])\n",
    "\n",
    "## Question: how many states do we have for 3 modes and 2 photons?\n",
    "## There are 6 different states\n",
    "\n",
    "\n",
    "## Question : how many states do we have for m modes and n photons? \n",
    "## There are m+n-1 choose n different states. Cf Bar and Star problems."
   ]
  },
  {
   "cell_type": "markdown",
   "id": "25bafee4-e4c6-43e7-9a33-e2f28e66704e",
   "metadata": {},
   "source": [
    "Note : to approximate with decent precision a distribution over $M$ different states, we would need $M^2$ samples. This can be shown by [Hoeffding's inequality](https://en.wikipedia.org/wiki/Hoeffding%27s_inequality). "
   ]
  },
  {
   "cell_type": "markdown",
   "id": "bef29bcb-bdd1-4932-ab0e-c52e47329438",
   "metadata": {},
   "source": [
    "### 3. Sampling with real world source\n",
    "\n",
    "In the precedent cells, we have simulated a quantum processor using a perfect source, `Processor` initialization takes a third parameter which is a `Source` object as defined above"
   ]
  },
  {
   "cell_type": "code",
   "execution_count": null,
   "id": "60750d77-12d4-4a7f-866a-fea687c98694",
   "metadata": {},
   "outputs": [],
   "source": [
    "# Run the sampling again on the random unitary, but setting a real world source - compare the results\n",
    "\n",
    "### ENTER CODE HERE\n",
    "### END CODE\n",
    "p.min_detected_photons_filter(0)  # Do not filter out any output state\n",
    "\n",
    "sampler_realworld = pcvl.algorithm.Sampler(p)  \n",
    "sample_count_realworld = sampler.sample_count(1000)\n",
    "print(sample_count['results'])"
   ]
  },
  {
   "cell_type": "markdown",
   "id": "9d1bf321-9f9a-46b3-a8d1-1f7f35f77adb",
   "metadata": {},
   "source": [
    "## Encoding Qubits"
   ]
  },
  {
   "cell_type": "markdown",
   "id": "d9006d69-fa78-4fec-882e-781cb411da74",
   "metadata": {},
   "source": [
    "### 1. Path encoding\n",
    "\n",
    "To perform quantum computations using photons, we need an encoding: a correspondance between our Fock states and our qubit states.\n",
    "\n",
    "We therefore want to associate each qubit state with one of our Fock states.\n",
    "\n",
    "One natural way to encode qubits is the path encoding.\n",
    "A qubit is a two-level quantum state, so we will use two spatial modes to encode it: this is the dual-rail or path encoding.\n",
    "\n",
    "The logical qubit state $|0\\rangle_L$ will correspond to a photon in the upper mode, as in the Fock state $|1,0\\rangle$, while $|1\\rangle_L$ will be encoded as $|0,1\\rangle$.\n",
    "\n",
    "\n",
    "We can extend this to multiple qubits by having twice as many modes as there are qubits. For example the $3$-qubit state $\\frac{1}{\\sqrt{2}}(|000\\rangle_L+|111\\rangle_L)$ can be encoded with $3$ photons and $3\\times 2=6$ modes :\n",
    "$\\frac{1}{\\sqrt{2}}(|1,0,1,0,1,0\\rangle+|0,1,0,1,0,1\\rangle)$"
   ]
  },
  {
   "cell_type": "markdown",
   "id": "472de875-be22-41da-b462-3c981756ac3d",
   "metadata": {},
   "source": [
    "### 2. Single-qubit gates\n",
    "\n",
    "Using the dual-rail enconding, single-qubit gates only deal with one photon and are straightforward. Can you give the LO-circuits for the gates below?"
   ]
  },
  {
   "cell_type": "markdown",
   "id": "b689552a-6c65-434d-9458-c5116456d33e",
   "metadata": {},
   "source": [
    "$$X=\\left[\\begin{matrix}0 & 1\\\\1& 0\\end{matrix}\\right]$$\n",
    "$$Y=\\left[\\begin{matrix}0 & -i\\\\i& 0\\end{matrix}\\right]$$\n",
    "$$Z=\\left[\\begin{matrix}1 & 0\\\\0& -1\\end{matrix}\\right]$$\n",
    "$$H=\\frac{1}{\\sqrt{2}} \\left[\\begin{matrix}1 & 1\\\\1& -1\\end{matrix}\\right]$$\n",
    "\n",
    "$$R_X=\\left[\\begin{matrix}\\cos{\\left(\\frac{\\theta}{2} \\right)} & -i \\sin{\\left(\\frac{\\theta}{2} \\right)}\\\\-i \\sin{\\left(\\frac{\\theta}{2} \\right)} & \\cos{\\left(\\frac{\\theta}{2} \\right)}\\end{matrix}\\right]$$\n",
    "\n",
    "$$R_Y=\\left[\\begin{matrix}\\cos{\\left(\\frac{\\theta}{2} \\right)} & - \\sin{\\left(\\frac{\\theta}{2} \\right)}\\\\ \\sin{\\left(\\frac{\\theta}{2} \\right)} & \\cos{\\left(\\frac{\\theta}{2} \\right)}\\end{matrix}\\right]$$\n",
    "\n",
    "$$R_Z=\\left[\\begin{matrix}e^{-i\\frac{\\theta}{2}} & 0 \\\\ 0 & e^{i\\frac{\\theta}{2}}\\end{matrix}\\right]$$"
   ]
  },
  {
   "cell_type": "code",
   "execution_count": null,
   "id": "9911510a-181d-4cd8-8f36-f9f87f6b7e87",
   "metadata": {},
   "outputs": [],
   "source": [
    "## find the LO-circuits for each gate and compare unitaries\n",
    "\n",
    "### ENTER CODE HERE\n",
    "### END CODE"
   ]
  },
  {
   "cell_type": "markdown",
   "id": "2810bee6-e7b7-4a06-91f9-cfd0d862075a",
   "metadata": {},
   "source": [
    "### 3. Two-qubit gates\n",
    "\n",
    "On the other hand, in dual-rail encoding, it can be shown that two-qubit gates can't be deterministic, and have a probability to fail.\n",
    "\n",
    "There are two ways to detect that failure:\n",
    "\n",
    "- We can use additional photons called ancillas, which we can measure independently from the main circuit photons. Depending on the state obtained on the ancilla, we know whether the gate has succeeded or not on the main qubits. Those gates will be called heralded.\n",
    "- We can also directly measure the main circuit qubits, and depending on the result, assess whether the gate has succeeded or not. Those gates will be called postselected.\n",
    "\n",
    "The CNOT gate acts on two qubits, a control and a target, and flips the value of the target if the control qubit is in state $|1\\rangle_L$. In the following two exercices, we will see the two types of CNOT gates: \n",
    "- the postselected CNOT of [Ralph et al.](https://arxiv.org/abs/quant-ph/0112088)\n",
    "- the heralded CNOT of the [KLM protocol](https://arxiv.org/abs/quant-ph/0006088)"
   ]
  },
  {
   "cell_type": "code",
   "execution_count": null,
   "id": "30505d4a-f4e8-42f3-b981-53e4031249f1",
   "metadata": {},
   "outputs": [],
   "source": [
    "## We introduce the component catalog. It contains both CNOT gates.\n",
    "from perceval.components import catalog\n",
    "print(catalog.list())"
   ]
  },
  {
   "cell_type": "code",
   "execution_count": null,
   "id": "fefe2b7b-ecc4-4521-ae25-d4bd86a1b75c",
   "metadata": {},
   "outputs": [],
   "source": [
    "## Ralph's et al. CNot\n",
    "\n",
    "print(catalog['postprocessed cnot'].doc)\n",
    "ralph_cnot = catalog['postprocessed cnot'].build_processor()\n",
    "## You can set its input state with a LogicalState\n",
    "ralph_cnot.with_input(pcvl.LogicalState([1, 0]))\n",
    "\n",
    "pcvl.pdisplay(ralph_cnot, recursive=True, render_size=1.25)"
   ]
  },
  {
   "cell_type": "code",
   "execution_count": null,
   "id": "e8c767a6-10a3-4039-8934-29668ae5790b",
   "metadata": {},
   "outputs": [],
   "source": [
    "## You can sample some output states\n",
    "h_cnot = catalog['klm cnot'].build_processor()\n",
    "cnot_sampler = pcvl.algorithm.Sampler(h_cnot)\n",
    "h_cnot.with_input(pcvl.LogicalState([0, 0]))\n",
    "\n",
    "samples = cnot_sampler.samples(10)\n",
    "print(samples['results'])\n",
    "print(\"Some output states were not selected because of heralds and post-processing => you can check the logical performance\")\n",
    "print(\"Logical performance =\", samples['logical_perf'])"
   ]
  },
  {
   "cell_type": "code",
   "execution_count": null,
   "id": "911678da-29e3-428e-9c7a-4b8fe294f5e4",
   "metadata": {},
   "outputs": [],
   "source": [
    "states = {\n",
    "    pcvl.BasicState([1, 0, 1, 0]): \"00\",\n",
    "    pcvl.BasicState([1, 0, 0, 1]): \"01\",\n",
    "    pcvl.BasicState([0, 1, 1, 0]): \"10\",\n",
    "    pcvl.BasicState([0, 1, 0, 1]): \"11\"\n",
    "}\n",
    "\n",
    "ca = pcvl.algorithm.Analyzer(h_cnot, states)\n",
    "ca.compute(expected={\"00\": \"00\", \"01\": \"01\", \"10\": \"11\", \"11\": \"10\"})\n",
    "pcvl.pdisplay(ca)\n",
    "print(f\"performance = {pcvl.simple_float(ca.performance)[1]}, fidelity = {ca.fidelity*100}%\")"
   ]
  },
  {
   "cell_type": "code",
   "execution_count": null,
   "id": "be495793-3f2a-4b86-8cc5-4223a94e4fc0",
   "metadata": {},
   "outputs": [],
   "source": [
    "from perceval.algorithm import ProcessTomography\n",
    "from perceval.algorithm.tomography import is_physical\n",
    "h_cnot = catalog['klm cnot'].build_processor()\n",
    "qpt = ProcessTomography(operator_processor=h_cnot)\n",
    "chi_op = qpt.chi_matrix()  # computing the chi matrix\n",
    "pcvl.pdisplay(qpt, render_size=(15,30))  # visualization of the same chi\n"
   ]
  },
  {
   "cell_type": "code",
   "execution_count": null,
   "id": "b396ce08-8271-4fc2-8ce2-0d665eaa6dda",
   "metadata": {},
   "outputs": [],
   "source": []
  }
 ],
 "metadata": {
  "kernelspec": {
   "display_name": "Python 3 (ipykernel)",
   "language": "python",
   "name": "python3"
  },
  "language_info": {
   "codemirror_mode": {
    "name": "ipython",
    "version": 3
   },
   "file_extension": ".py",
   "mimetype": "text/x-python",
   "name": "python",
   "nbconvert_exporter": "python",
   "pygments_lexer": "ipython3",
   "version": "3.10.10"
  }
 },
 "nbformat": 4,
 "nbformat_minor": 5
}
