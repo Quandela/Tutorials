{
 "cells": [
  {
   "cell_type": "code",
   "execution_count": null,
   "id": "a6f8a2c2-8a5f-4070-a126-231150d2d6ed",
   "metadata": {},
   "outputs": [],
   "source": [
    "#!pip install qiskit_ibm_provider\n",
    "#!pip install seaborn\n",
    "#!pip install pylatexenc"
   ]
  },
  {
   "cell_type": "code",
   "execution_count": null,
   "id": "42ca8ad7-8997-4cc8-8a50-19dbf451338c",
   "metadata": {},
   "outputs": [],
   "source": [
    "from qiskit_ibm_provider import IBMProvider"
   ]
  },
  {
   "cell_type": "markdown",
   "id": "08fd1710-715e-496e-b833-70b02f6ff68b",
   "metadata": {},
   "source": [
    "# Providers"
   ]
  },
  {
   "cell_type": "code",
   "execution_count": null,
   "id": "5fdb57e8-0d27-4bed-b572-2d079dde865a",
   "metadata": {},
   "outputs": [],
   "source": [
    "# do it only once\n",
    "IBMProvider.save_account(token='MY_TOKEN', overwrite=True)"
   ]
  },
  {
   "cell_type": "code",
   "execution_count": null,
   "id": "2343c316-8e45-4c18-80db-2da89ca10d12",
   "metadata": {},
   "outputs": [],
   "source": [
    "provider = IBMProvider()"
   ]
  },
  {
   "cell_type": "code",
   "execution_count": null,
   "id": "f1f3f87d-9ca7-46f5-be37-f10e2ad5456d",
   "metadata": {},
   "outputs": [],
   "source": [
    "print(provider.backends())"
   ]
  },
  {
   "cell_type": "code",
   "execution_count": null,
   "id": "a871ed94-1a74-40b8-8caf-d3ed53070422",
   "metadata": {},
   "outputs": [],
   "source": [
    "for backend in provider.backends():\n",
    "    try:\n",
    "        print(backend.name, backend.num_qubits, backend.status().status_msg, backend.status().pending_jobs)\n",
    "        print(backend.coupling_map)\n",
    "        instructions = set()\n",
    "        for inst, _ in backend.instructions:\n",
    "            if isinstance(inst.name,str) and inst.name not in backend.configuration().basis_gates:\n",
    "                instructions.add(inst.name)\n",
    "        print(\"\\tsupports: \", backend.configuration().basis_gates, \"+\", instructions)\n",
    "    except:\n",
    "        pass"
   ]
  },
  {
   "cell_type": "code",
   "execution_count": null,
   "id": "814c1ac1-50e2-406a-b763-83e0bfa35f46",
   "metadata": {},
   "outputs": [],
   "source": [
    "simulator_backend = provider.get_backend('ibmq_qasm_simulator')\n",
    "kyoto_backend = provider.get_backend('ibm_kyoto')"
   ]
  },
  {
   "cell_type": "code",
   "execution_count": null,
   "id": "b50d258b-4dfc-4fae-9520-dd0069e4be3c",
   "metadata": {},
   "outputs": [],
   "source": [
    "from qiskit.tools.visualization import plot_gate_map\n",
    "print(kyoto_backend.configuration().coupling_map)\n",
    "plot_gate_map(kyoto_backend)"
   ]
  },
  {
   "cell_type": "code",
   "execution_count": null,
   "id": "94a426f9-396c-4239-94a0-ce3e51a19cd0",
   "metadata": {},
   "outputs": [],
   "source": [
    "#Can we check coupling map for simulator?\n",
    "###ENTER CODE HERE\n",
    "###END CODE"
   ]
  },
  {
   "cell_type": "markdown",
   "id": "4fd46daf-7323-4d2f-b0fc-7209b890ccd5",
   "metadata": {},
   "source": [
    "# Simulation"
   ]
  },
  {
   "cell_type": "code",
   "execution_count": null,
   "id": "597c1d93-54af-468c-9ed5-2f1a07b96c9b",
   "metadata": {},
   "outputs": [],
   "source": [
    "# Our first circuit !\n",
    "from qiskit import QuantumCircuit\n",
    "circuit = QuantumCircuit(2)\n",
    "circuit.h(0)\n",
    "circuit.cx(0, 1)\n",
    "circuit.measure_all()\n",
    "\n",
    "circuit.draw(initial_state=True)\n",
    "circuit.draw(output='mpl', style=\"iqp\") # style=\"clifford\""
   ]
  },
  {
   "cell_type": "code",
   "execution_count": null,
   "id": "80280879-eff8-471a-82f1-5afaaf44529e",
   "metadata": {},
   "outputs": [],
   "source": [
    "from qiskit.quantum_info import Statevector\n",
    "from qiskit import Aer\n",
    "from qiskit_aer import AerSimulator\n",
    "from qiskit.tools.visualization import plot_histogram\n",
    "local_simulator = Aer.get_backend('aer_simulator')\n",
    "local_kyoto_simulator = AerSimulator.from_backend(kyoto_backend)\n",
    "job = local_simulator.run(circuit, shots=1024)"
   ]
  },
  {
   "cell_type": "code",
   "execution_count": null,
   "id": "b964f818-e9f4-419f-8956-cc315dfd29e9",
   "metadata": {},
   "outputs": [],
   "source": [
    "print(job.status())"
   ]
  },
  {
   "cell_type": "code",
   "execution_count": null,
   "id": "ce7a8a1f-bddd-4664-a96b-0d874c5652c3",
   "metadata": {},
   "outputs": [],
   "source": [
    "result_qasm = job.result()\n",
    "print(result_qasm.get_counts())"
   ]
  },
  {
   "cell_type": "code",
   "execution_count": null,
   "id": "4b4e595e-156c-4636-b61b-3ea6eaf2c692",
   "metadata": {},
   "outputs": [],
   "source": [
    "result_kyoto = local_kyoto_simulator.run(circuit, shots=1024).result()\n",
    "print(result_kyoto.get_counts())"
   ]
  },
  {
   "cell_type": "code",
   "execution_count": null,
   "id": "6604d14d-c9fa-4f92-8b74-910f47871acc",
   "metadata": {},
   "outputs": [],
   "source": [
    "plot_histogram([result_qasm.get_counts(), result_kyoto.get_counts()], legend=[\"ideal\", \"noisy\"])"
   ]
  },
  {
   "cell_type": "code",
   "execution_count": null,
   "id": "710031b2-19bc-4b88-8cd1-03d28d8911b0",
   "metadata": {},
   "outputs": [],
   "source": [
    "## Calculate fidelity with precision linked to sampling noise\n",
    "\n",
    "###ENTER CODE HERE\n",
    "###END CODE"
   ]
  },
  {
   "cell_type": "code",
   "execution_count": null,
   "id": "98ef2a8d-aa43-4d4b-8338-66ca7458a3cf",
   "metadata": {},
   "outputs": [],
   "source": [
    "# let us check statevector now\n",
    "circuit2 = QuantumCircuit(2)\n",
    "circuit2.h(0)\n",
    "circuit2.cx(0, 1)\n",
    "circuit2.save_statevector()"
   ]
  },
  {
   "cell_type": "code",
   "execution_count": null,
   "id": "6a97b5d6-0f70-479e-b723-8787d3e34d5e",
   "metadata": {},
   "outputs": [],
   "source": [
    "from qiskit.tools.visualization import plot_state_qsphere\n",
    "sv1 = local_simulator.run(circuit2).result().get_statevector()\n",
    "plot_state_qsphere(sv1)"
   ]
  },
  {
   "cell_type": "code",
   "execution_count": null,
   "id": "e5835feb-ab4a-4889-8a04-1c864fdb82e6",
   "metadata": {},
   "outputs": [],
   "source": [
    "sv1.draw('latex', prefix='The\\ state\\ vector:')"
   ]
  },
  {
   "cell_type": "code",
   "execution_count": null,
   "id": "3a2f3ef8-841b-4ef7-b0b0-e7ba14434eba",
   "metadata": {},
   "outputs": [],
   "source": [
    "## Can we do the same on noisy simulator? comment...\n",
    "\n",
    "###ENTER CODE HERE\n",
    "###END CODE"
   ]
  },
  {
   "cell_type": "markdown",
   "id": "c70ec759-d129-4285-9bd6-643f08f2ec3d",
   "metadata": {},
   "source": [
    "# Conditional X gate\n",
    "\n",
    "Using `c_if` - you can make a gate conditional in your circuit - syntax is:\n",
    "\n",
    "<code>\n",
    "circuit.x(qreg).c_if(creg, 1)\n",
    "</code>\n",
    "\n",
    "Modify the circuit above to add a conditional X gate on the second qubit, if the value of the register is 0, what is the new circuit?"
   ]
  },
  {
   "cell_type": "code",
   "execution_count": null,
   "id": "a023801c-98a1-4d93-a81d-a42254e0d71b",
   "metadata": {},
   "outputs": [],
   "source": [
    "qc_ghz = QuantumCircuit(3)\n",
    "###ENTER CODE HERE\n",
    "###END CODE"
   ]
  },
  {
   "cell_type": "markdown",
   "id": "efe88ae4-8093-442d-9446-c272f1fa4da8",
   "metadata": {},
   "source": [
    "# Transpilation, Compilation, Assembling\n",
    "\n",
    "You can use the following to check the size of your circuit:\n",
    "<code>\n",
    "qc.width()\n",
    "qc.count_ops()\n",
    "qc.size()\n",
    "qc.depth()\n",
    "</code>\n",
    "\n",
    "Build a GHZ state $|000\\rangle+|111\\rangle$ and check these different values..."
   ]
  },
  {
   "cell_type": "code",
   "execution_count": null,
   "id": "6b1eddb9-9a72-401b-b78f-d50f697ce058",
   "metadata": {},
   "outputs": [],
   "source": [
    "###ENTER CODE HERE\n",
    "###END CODE\n",
    "\n",
    "print(f\"initial: width={qc_ghz.width()}, counts_ops={qc_ghz.count_ops()}, size={qc_ghz.size()}, depth={qc_ghz.depth()}\")"
   ]
  },
  {
   "cell_type": "code",
   "execution_count": null,
   "id": "af02efe6-f7c4-42c4-9482-7e515d9c5aa8",
   "metadata": {},
   "outputs": [],
   "source": [
    "# do the same on the decomposed circuit\n",
    "qc_basis = qc_ghz.decompose()\n",
    "print(f\"decompose: width={qc_basis.width()}, counts_ops={qc_basis.count_ops()}, size={qc_basis.size()}, depth={qc_basis.depth()}\")\n",
    "qc_basis.draw(output='mpl')"
   ]
  },
  {
   "cell_type": "code",
   "execution_count": null,
   "id": "bf710b0f-b0dd-4ee6-874c-1f8a3af69cfb",
   "metadata": {},
   "outputs": [],
   "source": [
    "# ok - let transpile now the circuit and checks what it becomes on physical hardware\n",
    "from qiskit.compiler import transpile\n",
    "transp_3 = transpile(qc_ghz, kyoto_backend, optimization_level=3)\n",
    "transp_3.draw(output='mpl')\n",
    "print(f\"transpiled: width={qc_basis.width()}, counts_ops={qc_basis.count_ops()}, size={qc_basis.size()}, depth={qc_basis.depth()}\")"
   ]
  },
  {
   "cell_type": "code",
   "execution_count": null,
   "id": "f8664089-8a02-4282-80e1-41251e0393e6",
   "metadata": {},
   "outputs": [],
   "source": [
    "# is there difference with optimization level 1 and 2\n",
    "###ENTER CODE HERE\n",
    "###END CODE"
   ]
  },
  {
   "cell_type": "code",
   "execution_count": null,
   "id": "646eafd9-95d2-4350-acaa-4addb98ea805",
   "metadata": {},
   "outputs": [],
   "source": [
    "# How is the circuit transpiled on the actual layout?\n",
    "from qiskit.visualization import plot_circuit_layout\n",
    "plot_circuit_layout(transp_1, kyoto_backend)"
   ]
  },
  {
   "cell_type": "code",
   "execution_count": null,
   "id": "7b501f9f-d8ce-4725-a985-98ab9df056f4",
   "metadata": {},
   "outputs": [],
   "source": [
    "# Let us check on Assembling of transp_1\n",
    "\n",
    "qobj_1 = assemble(transp_1)\n",
    "print(qobj_1)"
   ]
  },
  {
   "cell_type": "code",
   "execution_count": null,
   "id": "5d9d08ef-e046-48ce-bf90-8baba68cb3d0",
   "metadata": {},
   "outputs": [],
   "source": [
    "# How does conditional gates assemble\n",
    "\n",
    "###ENTER CODE HERE\n",
    "###END CODE"
   ]
  },
  {
   "cell_type": "markdown",
   "id": "ff7441df-91f6-4477-b016-ad27033c3a31",
   "metadata": {},
   "source": [
    "# Remote jobs...\n",
    "To retrieve a job from IBMQ you can just use `job = provider.runtime.job('JOB_ID')`... `job` is the actual job object you could run locally."
   ]
  },
  {
   "cell_type": "code",
   "execution_count": 2,
   "id": "50c70c37-e5e2-4d4d-bc60-0514938940c5",
   "metadata": {},
   "outputs": [],
   "source": [
    "# take a IBMQ provider (to be quick a simulator) and launch a bell-state preparation circuit directly on the cloud\n",
    "# retrieve the result locally using job-id and display the result..."
   ]
  }
 ],
 "metadata": {
  "kernelspec": {
   "display_name": "Python 3 (ipykernel)",
   "language": "python",
   "name": "python3"
  },
  "language_info": {
   "codemirror_mode": {
    "name": "ipython",
    "version": 3
   },
   "file_extension": ".py",
   "mimetype": "text/x-python",
   "name": "python",
   "nbconvert_exporter": "python",
   "pygments_lexer": "ipython3",
   "version": "3.10.10"
  }
 },
 "nbformat": 4,
 "nbformat_minor": 5
}
