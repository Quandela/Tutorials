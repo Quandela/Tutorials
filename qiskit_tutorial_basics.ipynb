{
 "cells": [
  {
   "cell_type": "code",
   "execution_count": null,
   "id": "a6f8a2c2-8a5f-4070-a126-231150d2d6ed",
   "metadata": {},
   "outputs": [],
   "source": [
    "#!pip install qiskit_ibm_runtime\n",
    "#!pip install seaborn\n",
    "#!pip install pylatexenc\n",
    "#!pip install qiskit_aer\n",
    "#!pip install 'qiskit[visualization]'"
   ]
  },
  {
   "cell_type": "code",
   "execution_count": null,
   "id": "42ca8ad7-8997-4cc8-8a50-19dbf451338c",
   "metadata": {},
   "outputs": [],
   "source": [
    "from qiskit_ibm_runtime import QiskitRuntimeService\n",
    "from qiskit_aer import AerSimulator\n",
    "from qiskit.visualization import plot_gate_map\n",
    "import seaborn as sns\n",
    "from matplotlib import pyplot as plt"
   ]
  },
  {
   "cell_type": "markdown",
   "id": "08fd1710-715e-496e-b833-70b02f6ff68b",
   "metadata": {},
   "source": [
    "# Providers"
   ]
  },
  {
   "cell_type": "code",
   "execution_count": null,
   "id": "5fdb57e8-0d27-4bed-b572-2d079dde865a",
   "metadata": {},
   "outputs": [],
   "source": [
    "# do it only once\n",
    "QiskitRuntimeService.save_account(channel=\"ibm_quantum\", token=TOKEN_ID, overwrite=True, set_as_default=True)"
   ]
  },
  {
   "cell_type": "code",
   "execution_count": null,
   "id": "2343c316-8e45-4c18-80db-2da89ca10d12",
   "metadata": {},
   "outputs": [],
   "source": [
    "services = QiskitRuntimeService()"
   ]
  },
  {
   "cell_type": "code",
   "execution_count": null,
   "id": "f1f3f87d-9ca7-46f5-be37-f10e2ad5456d",
   "metadata": {},
   "outputs": [],
   "source": [
    "print(services.backends())"
   ]
  },
  {
   "cell_type": "code",
   "execution_count": null,
   "id": "a871ed94-1a74-40b8-8caf-d3ed53070422",
   "metadata": {},
   "outputs": [],
   "source": [
    "for backend in services.backends():\n",
    "    try:\n",
    "        print(f\"name={backend.name}, nqbits={backend.num_qubits}, status={backend.status().status_msg}, pending_jobs={backend.status().pending_jobs}\")\n",
    "        print(\"\\tcoupling map:\", backend.coupling_map)\n",
    "        instructions = set()\n",
    "        for inst, _ in backend.instructions:\n",
    "            if isinstance(inst.name,str) and inst.name not in backend.configuration().basis_gates:\n",
    "                instructions.add(inst.name)\n",
    "        print(\"\\tsupports: \", backend.configuration().basis_gates, \"+\", instructions)\n",
    "    except:\n",
    "        pass"
   ]
  },
  {
   "cell_type": "code",
   "execution_count": null,
   "id": "814c1ac1-50e2-406a-b763-83e0bfa35f46",
   "metadata": {},
   "outputs": [],
   "source": [
    "qpu_backend = services.least_busy(operational=True, min_num_qubits=5)\n",
    "print(\"qpu selected:\", qpu_backend.name, \"n_qubit:\", qpu_backend.num_qubits)"
   ]
  },
  {
   "cell_type": "code",
   "execution_count": null,
   "id": "2986efa4-31fa-4fc1-a373-6a8c4d2a7d82",
   "metadata": {},
   "outputs": [],
   "source": [
    "# display some information about the qpu\n",
    "print(qpu_backend.name)\n",
    "# some dynamic information - for instance qubit 0 property\n",
    "print(\"qubit 0 property:\", qpu_backend.qubit_properties(0))\n",
    "# or properties of ecr gate between qubit 0 and 1\n",
    "print(\"ecr gate 0-1 property:\", qpu_backend.target[\"ecr\"][(0, 1)])\n",
    "# readout properties on qubit 0\n",
    "print(\"readout error on qubit 0:\", qpu_backend.target[\"measure\"][(0,)])"
   ]
  },
  {
   "cell_type": "code",
   "execution_count": null,
   "id": "b50d258b-4dfc-4fae-9520-dd0069e4be3c",
   "metadata": {},
   "outputs": [],
   "source": [
    "plot_gate_map(qpu_backend)"
   ]
  },
  {
   "cell_type": "code",
   "execution_count": null,
   "id": "58671343-6e6c-47ef-970f-3fb849a3aeba",
   "metadata": {},
   "outputs": [],
   "source": [
    "colors_palette = sns.dark_palette(\"red\", 20)\n",
    "colors = colors_palette.as_hex()\n",
    "#We will use this color palette to represent meas and ecr errors\n",
    "colors_palette"
   ]
  },
  {
   "cell_type": "code",
   "execution_count": null,
   "id": "bfbfedf5-1e21-4e78-9cf0-414b1ee21946",
   "metadata": {},
   "outputs": [],
   "source": []
  },
  {
   "cell_type": "code",
   "execution_count": null,
   "id": "dac8b333-54c2-488d-94d5-5034940628f9",
   "metadata": {},
   "outputs": [],
   "source": [
    "measure_errors = []\n",
    "for i in range(qpu_backend.num_qubits):\n",
    "    measure_errors.append(qpu_backend.target[\"measure\"][(i,)].error)\n",
    "ecr_errors = []\n",
    "for e in qpu_backend.target[\"ecr\"]:\n",
    "    ecr_errors.append(qpu_backend.target[\"ecr\"][e].error)"
   ]
  },
  {
   "cell_type": "code",
   "execution_count": null,
   "id": "dff8e4a3-bef3-448c-a42c-31db415c2287",
   "metadata": {},
   "outputs": [],
   "source": []
  },
  {
   "cell_type": "code",
   "execution_count": null,
   "id": "ce04065d-5580-4d43-8848-b5ec7749aeda",
   "metadata": {},
   "outputs": [],
   "source": []
  },
  {
   "cell_type": "code",
   "execution_count": null,
   "id": "0507b589-cc5c-444e-8653-7e7843562a72",
   "metadata": {},
   "outputs": [],
   "source": []
  },
  {
   "cell_type": "code",
   "execution_count": null,
   "id": "d9921356-2542-4856-bc1b-f9109650400a",
   "metadata": {},
   "outputs": [],
   "source": [
    "fig, (ax1, ax2) = plt.subplots(1, 2, figsize=(15, 5))\n",
    "sns.histplot(measure_errors, ax=ax1)\n",
    "ax1.set_title('measure errors')\n",
    "sns.histplot(ecr_errors, ax=ax2)\n",
    "ax2.set_title('ECR errors')\n",
    "plt.show()"
   ]
  },
  {
   "cell_type": "code",
   "execution_count": null,
   "id": "3aa75ce3-826c-49e0-a3f9-e822fd37d4da",
   "metadata": {},
   "outputs": [],
   "source": [
    "min_meas_error, max_meas_error = min(measure_errors), max(measure_errors)\n",
    "print(\"measurement error, min:\", min_meas_error, \"max:\", max_meas_error)\n",
    "min_ecr_error, max_ecr_error = min(ecr_errors), max(ecr_errors)\n",
    "print(\"ecr error, min:\", min_ecr_error, \"max:\", max_ecr_error)"
   ]
  },
  {
   "cell_type": "code",
   "execution_count": null,
   "id": "343b6965-d74e-4007-8915-ca41e69e3fcb",
   "metadata": {},
   "outputs": [],
   "source": [
    "display_meas_errors, display_ecr_errors = None, None\n",
    "#for each measurement error, associate a color from \n",
    "###ENTER CODE HERE\n",
    "display_meas_error = [colors[min(int((e-min_meas_error)/(max_meas_error-min_meas_error)*(len(colors)-1)), len(colors)-1)] for e in measure_errors]\n",
    "display_ecr_errors = [colors[min(int((e-min_ecr_error)/(max_ecr_error-min_ecr_error)*(len(colors)-1)), len(colors)-1)] for e in ecr_errors]\n",
    "###END CODE"
   ]
  },
  {
   "cell_type": "code",
   "execution_count": null,
   "id": "89ef6d02-8e02-4c0f-a80b-e95c0858ccee",
   "metadata": {},
   "outputs": [],
   "source": [
    "plot_gate_map(qpu_backend, qubit_color=display_meas_error, line_color=display_ecr_errors)"
   ]
  },
  {
   "cell_type": "code",
   "execution_count": null,
   "id": "94a426f9-396c-4239-94a0-ce3e51a19cd0",
   "metadata": {},
   "outputs": [],
   "source": [
    "#Can we check coupling map for simulator?\n",
    "###ENTER CODE HERE\n",
    "###END CODE"
   ]
  },
  {
   "cell_type": "markdown",
   "id": "4fd46daf-7323-4d2f-b0fc-7209b890ccd5",
   "metadata": {},
   "source": [
    "# Simulation"
   ]
  },
  {
   "cell_type": "code",
   "execution_count": null,
   "id": "597c1d93-54af-468c-9ed5-2f1a07b96c9b",
   "metadata": {},
   "outputs": [],
   "source": [
    "# Our first circuit !\n",
    "from qiskit import QuantumCircuit\n",
    "circuit = QuantumCircuit(2)\n",
    "circuit.h(0)\n",
    "circuit.cx(0, 1)\n",
    "circuit.measure_all()\n",
    "\n",
    "circuit.draw(initial_state=True)\n",
    "circuit.draw(output='mpl', style=\"iqp\") # style=\"clifford\""
   ]
  },
  {
   "cell_type": "code",
   "execution_count": null,
   "id": "80280879-eff8-471a-82f1-5afaaf44529e",
   "metadata": {},
   "outputs": [],
   "source": [
    "from qiskit.quantum_info import Statevector\n",
    "from qiskit.visualization import plot_histogram"
   ]
  },
  {
   "cell_type": "code",
   "execution_count": null,
   "id": "44cd9f4c-fc54-4ecb-9464-31007fcb59ef",
   "metadata": {},
   "outputs": [],
   "source": [
    "simulator_backend=AerSimulator()\n",
    "job = simulator_backend.run(circuit, shots=1024)"
   ]
  },
  {
   "cell_type": "code",
   "execution_count": null,
   "id": "b964f818-e9f4-419f-8956-cc315dfd29e9",
   "metadata": {},
   "outputs": [],
   "source": [
    "print(job.status())"
   ]
  },
  {
   "cell_type": "code",
   "execution_count": null,
   "id": "ce7a8a1f-bddd-4664-a96b-0d874c5652c3",
   "metadata": {},
   "outputs": [],
   "source": [
    "result_sim = job.result()\n",
    "print(result_sim.get_counts())"
   ]
  },
  {
   "cell_type": "code",
   "execution_count": null,
   "id": "4b4e595e-156c-4636-b61b-3ea6eaf2c692",
   "metadata": {},
   "outputs": [],
   "source": [
    "# Build a simulator from the qpu_backend - with its imperfections\n",
    "local_qpu_simulator = AerSimulator.from_backend(qpu_backend)\n",
    "\n",
    "# We do need to transpile the circuit for the local_qpu_simulator - check what happen if we don't\n",
    "from qiskit.compiler import transpile\n",
    "transpiled_circuit = transpile(circuit, local_qpu_simulator)\n",
    "result_sim_qpu = local_qpu_simulator.run(transpiled_circuit, shots=1024).result()\n",
    "print(result_sim_qpu.get_counts())"
   ]
  },
  {
   "cell_type": "code",
   "execution_count": null,
   "id": "744c8229-24fd-47e9-8d8d-8632bcbe561d",
   "metadata": {},
   "outputs": [],
   "source": [
    "# Run the job on the selected backend\n",
    "from qiskit_ibm_runtime import SamplerV2 as Sampler\n",
    "sampler = Sampler(mode=qpu_backend)\n",
    "job_qpu = sampler.run([transpiled_circuit], shots=1024)\n",
    "# We will check the results later"
   ]
  },
  {
   "cell_type": "code",
   "execution_count": null,
   "id": "6604d14d-c9fa-4f92-8b74-910f47871acc",
   "metadata": {},
   "outputs": [],
   "source": [
    "plot_histogram([result_sim.get_counts(), result_sim_qpu.get_counts()], legend=[\"ideal\", \"noisy\"])"
   ]
  },
  {
   "cell_type": "code",
   "execution_count": null,
   "id": "710031b2-19bc-4b88-8cd1-03d28d8911b0",
   "metadata": {},
   "outputs": [],
   "source": [
    "## Calculate fidelity with precision linked to sampling noise\n",
    "\n",
    "###ENTER CODE HERE\n",
    "###END CODE"
   ]
  },
  {
   "cell_type": "code",
   "execution_count": null,
   "id": "58308989-e1ce-4ad2-8935-9bf60ef393ca",
   "metadata": {},
   "outputs": [],
   "source": [
    "## How does fidelity change with circuit depth?\n",
    "\n",
    "###ENTER CODE HERE\n",
    "###END CODE"
   ]
  },
  {
   "cell_type": "code",
   "execution_count": null,
   "id": "98ef2a8d-aa43-4d4b-8338-66ca7458a3cf",
   "metadata": {},
   "outputs": [],
   "source": [
    "# let us check statevector now\n",
    "circuit2 = QuantumCircuit(2)\n",
    "circuit2.h(0)\n",
    "circuit2.cx(0, 1)\n",
    "circuit2.save_statevector()"
   ]
  },
  {
   "cell_type": "code",
   "execution_count": null,
   "id": "52706545-c289-4de7-9475-97054573b304",
   "metadata": {},
   "outputs": [],
   "source": [
    "from qiskit.visualization import plot_state_qsphere\n",
    "sv1 = simulator_backend.run(circuit2).result().get_statevector()\n",
    "plot_state_qsphere(sv1)"
   ]
  },
  {
   "cell_type": "code",
   "execution_count": null,
   "id": "e5835feb-ab4a-4889-8a04-1c864fdb82e6",
   "metadata": {},
   "outputs": [],
   "source": [
    "sv1.draw('latex', prefix='The\\\\ state\\\\ vector:')"
   ]
  },
  {
   "cell_type": "code",
   "execution_count": null,
   "id": "3a2f3ef8-841b-4ef7-b0b0-e7ba14434eba",
   "metadata": {},
   "outputs": [],
   "source": [
    "## Can we do the same on noisy simulator? comment...\n",
    "\n",
    "###ENTER CODE HERE\n",
    "###END CODE"
   ]
  },
  {
   "cell_type": "markdown",
   "id": "c70ec759-d129-4285-9bd6-643f08f2ec3d",
   "metadata": {},
   "source": [
    "# Conditional X gate\n",
    "\n",
    "Using `c_if` - you can make a gate conditional in your circuit - syntax is:\n",
    "\n",
    "<code>\n",
    "circuit.x(qreg).c_if(creg, 1)\n",
    "</code>\n",
    "\n",
    "Modify the circuit above to add a conditional X gate on the second qubit, if the value of the register is 0, what is the new circuit?"
   ]
  },
  {
   "cell_type": "code",
   "execution_count": null,
   "id": "a023801c-98a1-4d93-a81d-a42254e0d71b",
   "metadata": {},
   "outputs": [],
   "source": [
    "qc_ghz = QuantumCircuit(3)\n",
    "###ENTER CODE HERE\n",
    "###END CODE"
   ]
  },
  {
   "cell_type": "markdown",
   "id": "efe88ae4-8093-442d-9446-c272f1fa4da8",
   "metadata": {},
   "source": [
    "# Transpilation, Compilation, Assembling\n",
    "\n",
    "You can use the following to check the size of your circuit:\n",
    "<code>\n",
    "qc.width()\n",
    "qc.count_ops()\n",
    "qc.size()\n",
    "qc.depth()\n",
    "</code>\n",
    "\n",
    "Build a GHZ state $|000\\rangle+|111\\rangle$ and check these different values..."
   ]
  },
  {
   "cell_type": "code",
   "execution_count": null,
   "id": "6b1eddb9-9a72-401b-b78f-d50f697ce058",
   "metadata": {},
   "outputs": [],
   "source": [
    "###ENTER CODE HERE\n",
    "qc_ghz.h(0)\n",
    "qc_ghz.cx(0, 1)\n",
    "###END CODE\n",
    "\n",
    "print(f\"initial: width={qc_ghz.width()}, counts_ops={qc_ghz.count_ops()}, size={qc_ghz.size()}, depth={qc_ghz.depth()}\")"
   ]
  },
  {
   "cell_type": "code",
   "execution_count": null,
   "id": "af02efe6-f7c4-42c4-9482-7e515d9c5aa8",
   "metadata": {},
   "outputs": [],
   "source": [
    "# do the same on the decomposed circuit\n",
    "qc_basis = qc_ghz.decompose()\n",
    "print(f\"decompose: width={qc_basis.width()}, counts_ops={qc_basis.count_ops()}, size={qc_basis.size()}, depth={qc_basis.depth()}\")\n",
    "qc_basis.draw(output='mpl')"
   ]
  },
  {
   "cell_type": "code",
   "execution_count": null,
   "id": "bf710b0f-b0dd-4ee6-874c-1f8a3af69cfb",
   "metadata": {},
   "outputs": [],
   "source": [
    "# ok - let transpile now the circuit and checks what it becomes on physical hardware\n",
    "transp_3 = transpile(qc_ghz, local_qpu_simulator, optimization_level=3)\n",
    "transp_3.draw(output='mpl')\n",
    "print(f\"transpiled: width={qc_basis.width()}, counts_ops={qc_basis.count_ops()}, size={qc_basis.size()}, depth={qc_basis.depth()}\")"
   ]
  },
  {
   "cell_type": "code",
   "execution_count": null,
   "id": "f8664089-8a02-4282-80e1-41251e0393e6",
   "metadata": {},
   "outputs": [],
   "source": [
    "# is there difference with optimization level 1 and 2\n",
    "###ENTER CODE HERE\n",
    "###END CODE"
   ]
  },
  {
   "cell_type": "code",
   "execution_count": null,
   "id": "646eafd9-95d2-4350-acaa-4addb98ea805",
   "metadata": {},
   "outputs": [],
   "source": [
    "# How is the circuit transpiled on the actual layout?\n",
    "from qiskit.visualization import plot_circuit_layout\n",
    "plot_circuit_layout(transp_3, qpu_backend)"
   ]
  },
  {
   "cell_type": "code",
   "execution_count": null,
   "id": "7b501f9f-d8ce-4725-a985-98ab9df056f4",
   "metadata": {},
   "outputs": [],
   "source": [
    "# Let us check on Assembling of transp_3\n",
    "from qiskit import qasm3\n",
    "qasm_string = qasm3.dumps(transp_3, experimental=qasm3.ExperimentalFeatures.SWITCH_CASE_V1)\n",
    "print(qasm_string)"
   ]
  },
  {
   "cell_type": "code",
   "execution_count": null,
   "id": "5d9d08ef-e046-48ce-bf90-8baba68cb3d0",
   "metadata": {},
   "outputs": [],
   "source": [
    "# How does conditional gates assemble\n",
    "\n",
    "###ENTER CODE HERE\n",
    "###END CODE"
   ]
  },
  {
   "cell_type": "markdown",
   "id": "ff7441df-91f6-4477-b016-ad27033c3a31",
   "metadata": {},
   "source": [
    "# Remote jobs...\n",
    "To retrieve a job from IBMQ you can just use `job = service.job('JOB_ID')`... `job` is the actual job object you could run locally."
   ]
  },
  {
   "cell_type": "code",
   "execution_count": null,
   "id": "50c70c37-e5e2-4d4d-bc60-0514938940c5",
   "metadata": {},
   "outputs": [],
   "source": [
    "# retrieve the latest job looking at ID in your IBM Quantum Platform"
   ]
  },
  {
   "cell_type": "code",
   "execution_count": null,
   "id": "f7233d0d-0282-47a3-9d40-b38a0cfb94d4",
   "metadata": {},
   "outputs": [],
   "source": [
    "job = services.job(JOB_ID)\n",
    "job_result = job_qpu.result()"
   ]
  },
  {
   "cell_type": "code",
   "execution_count": null,
   "id": "aeb86d2c-5494-46e6-aa99-3b20e93c47a3",
   "metadata": {},
   "outputs": [],
   "source": [
    "# The sample does not return count but a list of the samples\n",
    "# display of the raw table\n",
    "print(job_result[0].data.meas.array)\n",
    "# display of the counts\n",
    "print(job_result[0].data.meas.get_counts())"
   ]
  },
  {
   "cell_type": "code",
   "execution_count": null,
   "id": "83253f2e-22f5-4492-8570-c197edd3eb17",
   "metadata": {},
   "outputs": [],
   "source": [
    "## compare with fidelity of simulator"
   ]
  }
 ],
 "metadata": {
  "kernelspec": {
   "display_name": "Python 3 (ipykernel)",
   "language": "python",
   "name": "python3"
  },
  "language_info": {
   "codemirror_mode": {
    "name": "ipython",
    "version": 3
   },
   "file_extension": ".py",
   "mimetype": "text/x-python",
   "name": "python",
   "nbconvert_exporter": "python",
   "pygments_lexer": "ipython3",
   "version": "3.12.6"
  }
 },
 "nbformat": 4,
 "nbformat_minor": 5
}
