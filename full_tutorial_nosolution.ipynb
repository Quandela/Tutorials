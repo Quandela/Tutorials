{
 "cells": [
  {
   "cell_type": "code",
   "execution_count": null,
   "id": "9f1becea-85b2-4e10-9067-232cdad73816",
   "metadata": {},
   "outputs": [],
   "source": [
    "import perceval as pcvl\n",
    "from collections import Counter\n",
    "pcvl.__version__"
   ]
  },
  {
   "cell_type": "markdown",
   "id": "78c9f0ea-e8e4-4f1f-899b-3576f5c6f13e",
   "metadata": {},
   "source": [
    "# BasicStates\n",
    "\n",
    "In Linear Optical Circuits, photons can have many discrete degrees of freedom, called modes. \n",
    "It can be the frequency, the polarisation, the position, or all of them.\n",
    "\n",
    "We represent these degrees of freedom with Fock states. If we have $n$ photons over $m$ modes, the Fock state $|s_1,s_2,...,s_m\\rangle$ means we have $s_i$ photons in the $i^{th}$ mode. Note that $\\sum_{i=1}^m s_i =n$.\n",
    "\n",
    "In Perceval, we will use the module `pcvl.BasicState`"
   ]
  },
  {
   "cell_type": "markdown",
   "id": "92f74400-b996-4124-9d6b-13cded9f86b1",
   "metadata": {},
   "source": [
    "## Defining and manipulating BasicStates"
   ]
  },
  {
   "cell_type": "code",
   "execution_count": null,
   "id": "32d43504-e3d2-4498-85d0-f4bbeb3d76a9",
   "metadata": {},
   "outputs": [],
   "source": [
    "# BasicState can be constructed from a bra-ket string\n",
    "s=pcvl.BasicState(\"|0,1>\")\n",
    "# or from a list\n",
    "assert(s == pcvl.BasicState([0,1]))\n",
    "print(s[0], s[1])"
   ]
  },
  {
   "cell_type": "code",
   "execution_count": null,
   "id": "6d77956a-1469-4da8-b32f-50d2f9f33d50",
   "metadata": {},
   "outputs": [],
   "source": [
    "print(\"type of s is\", type(s))\n",
    "# BasicState will print as a string, s.n is the number of photons, s.m the number of modes (which is also the len of the BasicState)\n",
    "print(f\"s='{s}', n={s.n}, m={s.m}, m={len(s)}\")"
   ]
  },
  {
   "cell_type": "markdown",
   "id": "3b9ccb1c-cd8a-42c6-afdd-5a98a99a4de2",
   "metadata": {},
   "source": [
    "<div class=\"alert alert-info\">\n",
    "Note the type is <code>exqalibur.FockState</code> and not <code>pcvl.BasicState</code>!<br>\n",
    "&rarr; <code>perceval</code> library is using behind the scene a c++-optimized library <code>exqalibur</code> that is in charge of all the heavy lifting - we never use it directly, but it is where all the simulation work happens!\n",
    "</div>"
   ]
  },
  {
   "cell_type": "code",
   "execution_count": null,
   "id": "cba4a740-a733-4480-8a10-32a7425509b0",
   "metadata": {},
   "outputs": [],
   "source": [
    "# BasicState does not support assignment\n",
    "try:\n",
    "    s[0]=1\n",
    "except Exception as e:\n",
    "    print(\"ERROR:\", e)"
   ]
  },
  {
   "cell_type": "code",
   "execution_count": null,
   "id": "172ce92e-c82d-427a-83b2-adfad8daba26",
   "metadata": {},
   "outputs": [],
   "source": [
    "# let us define a function that does that!\n",
    "def assign(s, k, n_k):\n",
    "    r\"\"\"assigns n_k photon in the k-th mode of s, and returns the new BasicState\"\"\"\n",
    "    assert(isinstance(s, pcvl.BasicState))\n",
    "    assert(n_k < s.m)\n",
    "    ### ENTER CODE HERE\n",
    "\n",
    "    ### END CODE\n",
    "    return new_s\n",
    "\n",
    "# check if it works\n",
    "new_s = assign(s, 0, 1)\n",
    "assert(new_s == pcvl.BasicState(\"|1,1>\"))"
   ]
  },
  {
   "cell_type": "markdown",
   "id": "64125c31-601c-4514-9e44-83bf6387e395",
   "metadata": {},
   "source": [
    "### Working with annotations\n",
    "\n",
    "Instead of simple fock states, we can all annotate each photon with an annotation. In general an annotated photon is represented by `{x:y}`\n",
    "where `x` is the name of the annotation, and `y` its value - the value has to be numeric except for polarization.\n",
    "A special annotation named `P` is the photon polarization and `perceval` knows about its semantic - the value can be `H` (horizontal), `V` (vertical), `D` (diagonal)..."
   ]
  },
  {
   "cell_type": "code",
   "execution_count": null,
   "id": "29413be5-0106-4ddd-a585-80215514fefd",
   "metadata": {},
   "outputs": [],
   "source": [
    "a_bs = pcvl.BasicState(\"|{P:H},{P:V},{P:D}>\")\n",
    "print(a_bs, a_bs[0],a_bs[1])"
   ]
  },
  {
   "cell_type": "markdown",
   "id": "df7177ce-2792-4e66-b859-2f17ee5e55b1",
   "metadata": {},
   "source": [
    "However, you can use any name you like and even combine annotations:"
   ]
  },
  {
   "cell_type": "code",
   "execution_count": null,
   "id": "740229fa-4957-4b6c-b4b1-92d1c015bf7b",
   "metadata": {},
   "outputs": [],
   "source": [
    "pcvl.BasicState(\"|{color:0,P:H},{color:1,P:V}>\")"
   ]
  },
  {
   "cell_type": "markdown",
   "id": "79bb12db-0aa6-4fda-8586-d757f089d928",
   "metadata": {},
   "source": [
    "Annotation order does not matter:"
   ]
  },
  {
   "cell_type": "code",
   "execution_count": null,
   "id": "0f2b025f-23d0-4186-8863-c51d8ce0c187",
   "metadata": {},
   "outputs": [],
   "source": [
    "assert(pcvl.BasicState(\"|{color:0,P:H}>\")==pcvl.BasicState(\"|{P:H,color:0}>\"))"
   ]
  },
  {
   "cell_type": "markdown",
   "id": "5ed8a2a7-7aed-46d1-9856-e1359ab3aa0e",
   "metadata": {},
   "source": [
    "You can check if the basic state has an annotation and obtains the annotation of the photons on a specific mode:"
   ]
  },
  {
   "cell_type": "code",
   "execution_count": null,
   "id": "627e50c6-d357-4883-8171-389dd73d0ebc",
   "metadata": {},
   "outputs": [],
   "source": [
    "s=pcvl.BasicState(\"|{P:H,color:0},0,1>\")\n",
    "assert(s.has_annotations)\n",
    "print(s.get_mode_annotations(0))"
   ]
  },
  {
   "cell_type": "markdown",
   "id": "4c2e9f49-b16e-43f1-99df-45dec4b827a6",
   "metadata": {},
   "source": [
    "Each annotation behaves as a dictionary of key, value:"
   ]
  },
  {
   "cell_type": "code",
   "execution_count": null,
   "id": "bb5477a2-12ff-4b7c-a25c-24f3f47f7e19",
   "metadata": {},
   "outputs": [],
   "source": [
    "photon_idx = 0\n",
    "for k in range(s.m):\n",
    "    for annotation in s.get_mode_annotations(k):\n",
    "        photon_annotations=[]\n",
    "        for (annot_name,annot_value) in annotation:\n",
    "            photon_annotations.append(annot_name)\n",
    "        print(f\"photon {photon_idx} in mode {k} has annotations {photon_annotations}\")\n",
    "        photon_idx += 1"
   ]
  },
  {
   "cell_type": "code",
   "execution_count": null,
   "id": "cf7ce500-fddd-4668-bd16-df7d387f4951",
   "metadata": {},
   "outputs": [],
   "source": [
    "# let us define a function checking if one photon in a basic state has a polarization annotation\n",
    "def has_polarization(s):\n",
    "    if not s.has_annotations:\n",
    "        return False\n",
    "    ### ENTER CODE HERE\n",
    "\n",
    "    ### END CODE\n",
    "    return False\n",
    "assert(not has_polarization(pcvl.BasicState(\"|0,1>\")))\n",
    "assert(not has_polarization(pcvl.BasicState(\"|{color:0}>\")))\n",
    "assert(has_polarization(pcvl.BasicState(\"|1,{color:0,P:H},{_:1}>\")))"
   ]
  },
  {
   "cell_type": "markdown",
   "id": "8ac783cb-adcb-4ae5-bcc2-36853c9643cc",
   "metadata": {},
   "source": [
    "Last we can clear all annotations on a basic state:"
   ]
  },
  {
   "cell_type": "code",
   "execution_count": null,
   "id": "53a743e1-8f4b-4f1c-a6f9-9a2352b8c811",
   "metadata": {},
   "outputs": [],
   "source": [
    "print(\"before:\", s)\n",
    "s.clear_annotations()\n",
    "print(\"after:\", s)"
   ]
  },
  {
   "cell_type": "markdown",
   "id": "b4833cb0-ad86-4566-9136-d2402b7c4369",
   "metadata": {},
   "source": [
    "## Operations on BasicStates\n",
    "\n",
    "### tensor product\n",
    "`*` defines tensor product (`s1*s2` ~ $s_1\\otimes s_2$)"
   ]
  },
  {
   "cell_type": "code",
   "execution_count": null,
   "id": "08155e66-e2b6-4351-a78d-9b5388f1ff20",
   "metadata": {},
   "outputs": [],
   "source": [
    "print(pcvl.BasicState([0,1])*pcvl.BasicState([2,3]))"
   ]
  },
  {
   "cell_type": "markdown",
   "id": "465410c4-aa85-465a-bbbd-9e9ca273d0ac",
   "metadata": {},
   "source": [
    "And `**` the tensor power (`s**n` ~ $s^{\\otimes n}$), typically useful to initialize an input state"
   ]
  },
  {
   "cell_type": "code",
   "execution_count": null,
   "id": "1b5d4f32-5537-4d1c-b41d-660cae7e0555",
   "metadata": {},
   "outputs": [],
   "source": [
    "s2 = pcvl.BasicState([0,1])**4\n",
    "print(s2)"
   ]
  },
  {
   "cell_type": "code",
   "execution_count": null,
   "id": "507e466c-8d2b-4ca2-b9bb-24dc1d6ece6e",
   "metadata": {},
   "outputs": [],
   "source": [
    "# python slice operator applies smoothly\n",
    "print(s2[1:4])"
   ]
  },
  {
   "cell_type": "markdown",
   "id": "eab8be34-3c40-4e89-8918-ab4608bc76dd",
   "metadata": {},
   "source": [
    "# State Vectors\n",
    "\n",
    "A state vector is defined as a general quantum state: $\\sum_i \\alpha_i.s_i$ where $s_i$ are `BasicState`and $\\alpha_i$ their complex parameters/\n",
    "\n",
    "StateVectors can be build directly with `+`, `-` operators can be used to create state superposition:"
   ]
  },
  {
   "cell_type": "code",
   "execution_count": null,
   "id": "57d23490-884d-47e6-948b-f690d807e2b1",
   "metadata": {},
   "outputs": [],
   "source": [
    "sv1 = pcvl.BasicState([0,1])+pcvl.BasicState([1,0])"
   ]
  },
  {
   "cell_type": "code",
   "execution_count": null,
   "id": "ee6e9416-35ac-44aa-8da3-ae6c67b5465d",
   "metadata": {},
   "outputs": [],
   "source": [
    "# this is again an optimized `exqalibur` object!\n",
    "type(sv1)"
   ]
  },
  {
   "cell_type": "code",
   "execution_count": null,
   "id": "733c6e9b-389d-4068-bad2-407ce869ff11",
   "metadata": {},
   "outputs": [],
   "source": [
    "# let us check the value\n",
    "print(sv1)"
   ]
  },
  {
   "cell_type": "markdown",
   "id": "bfad4b4f-a1c0-4ea5-bd51-3b275b8e1da1",
   "metadata": {},
   "source": [
    "<div class=\"alert alert-info\">So $sv_1=\\frac{\\sqrt 2}{2}(\\ket{1,0}+\\ket{0,1})$. Note the <code>sqrt(2)/2</code> that was introduced: what even you are doing on the <code>StateVector</code>, they keep the parameters normalized so that $\\sum_i |\\alpha_i|^2=1$"
   ]
  },
  {
   "cell_type": "code",
   "execution_count": null,
   "id": "a10a38be-bd56-4475-bfe8-871aee7c3785",
   "metadata": {},
   "outputs": [],
   "source": [
    "# one easy way to check this is as follows, the multiplication of a StateVector by a constant does not change its value\n",
    "assert(2*pcvl.StateVector([0,1])==pcvl.StateVector([0,1]))"
   ]
  },
  {
   "cell_type": "markdown",
   "id": "aadcc6e9-e150-47c2-882d-8f437803e8be",
   "metadata": {},
   "source": [
    "except when building a superposed state:"
   ]
  },
  {
   "cell_type": "code",
   "execution_count": null,
   "id": "fd71fcce-8dc1-405b-bc5d-202fcd5ad44d",
   "metadata": {},
   "outputs": [],
   "source": [
    "sv2 = pcvl.StateVector([0,1])-2j*pcvl.StateVector([2,3])\n",
    "print(sv2)"
   ]
  },
  {
   "cell_type": "markdown",
   "id": "faacdf4e-21be-48f9-aad8-f83ebd847f5d",
   "metadata": {},
   "source": [
    "<div class=\"alert alert-info\">\n",
    "    Did you notice that it is being represented using `2*sqrt(5)/5` ($\\frac{2\\sqrt{5}}{5}$) and not numerical values? This is a built-in feature trying to recognize remarkable numbers when we print them - this helps the reader. This number simplification is built in the string conversion and can be disabled by addint `nsimplify=False` parameter in the implicit `__str__` function used to print the `StateVector` as follows \n",
    "</div>"
   ]
  },
  {
   "cell_type": "code",
   "execution_count": null,
   "id": "e5d1a31e-f8e8-4cc9-886d-d3d4df0183bb",
   "metadata": {},
   "outputs": [],
   "source": [
    "# switch off number conversion\n",
    "print(sv2.__str__(nsimplify=False))"
   ]
  },
  {
   "cell_type": "markdown",
   "id": "d1c66779-3384-4c32-8e96-83c9f58353d3",
   "metadata": {},
   "source": [
    "<div class=\"alert alert-warning\">This is clearly less intuitive but we now see that the parameters are actually complex values!!!</div>\n",
    "\n",
    "We can also use `pdisplay` to propose an even nicer representation, where we see the different components of the `StateVector`:"
   ]
  },
  {
   "cell_type": "code",
   "execution_count": null,
   "id": "8d0b21d3-4642-49bc-9cf5-b8e345abcb90",
   "metadata": {},
   "outputs": [],
   "source": [
    "pcvl.pdisplay(sv2) # you can add nsimplify=False here too!"
   ]
  },
  {
   "cell_type": "markdown",
   "id": "63687ecc-71a3-4839-aa69-94c6a2c0745f",
   "metadata": {},
   "source": [
    "Finally, we can iterate manually through the different components of a state vector:"
   ]
  },
  {
   "cell_type": "code",
   "execution_count": null,
   "id": "d04fa2de-86ad-43cd-bc7b-b65f590e3d46",
   "metadata": {},
   "outputs": [],
   "source": [
    "for bs, alpha in sv2:\n",
    "    # here we invoke manually the number simplification - easier to read\n",
    "    print(alpha, pcvl.simple_complex(alpha)[1], bs)"
   ]
  },
  {
   "cell_type": "markdown",
   "id": "ecbc9a36-a083-4102-97d0-c6ec7b135140",
   "metadata": {},
   "source": [
    "We can combine states with different number of photons (`-2*sqrt(5)*I/5*|2,3>+sqrt(5)/5*|0,1>`) but we cannot combine states with different number of modes - it does not make sense:"
   ]
  },
  {
   "cell_type": "code",
   "execution_count": null,
   "id": "d6209a80-d160-48a1-8920-4d8073108492",
   "metadata": {},
   "outputs": [],
   "source": [
    "try:\n",
    "    pcvl.BasicState(\"|0,1>\")+pcvl.BasicState(\"|0,1,2>\")\n",
    "except:\n",
    "    print(\"!!! Exception was generated: we cannot have superposed states with different number of modes !!!\")"
   ]
  },
  {
   "cell_type": "code",
   "execution_count": null,
   "id": "4124970d-db46-4137-956e-09f4b14f0877",
   "metadata": {},
   "outputs": [],
   "source": [
    "# ok - we can now manipulate StateVector - let us define a function giving us the probability of having one or mode photons in a given mode\n",
    "def photon_probability(sv, mode):\n",
    "    r\"\"\"should return the probability that when we measure `sv`, we observe at least one photon in mode `mode`\"\"\"\n",
    "    assert(mode < sv.m)\n",
    "    probability = 0\n",
    "    ### ENTER CODE HERE\n",
    "\n",
    "    ### END CODE\n",
    "    return probability"
   ]
  },
  {
   "cell_type": "code",
   "execution_count": null,
   "id": "89f446cf-ba86-49b3-a4ed-51f311b4ad96",
   "metadata": {},
   "outputs": [],
   "source": [
    "# let us check this\n",
    "assert(abs(photon_probability(pcvl.BasicState([0,1])+pcvl.BasicState([1,0]),0)-0.5)<1e-6)\n",
    "assert(abs(photon_probability(pcvl.BasicState([0,1,0])+pcvl.BasicState([0,1,0]),0)-0)<1e-6)\n",
    "assert(abs(photon_probability(sv2, 0)-0.8)<1e-6)"
   ]
  },
  {
   "cell_type": "markdown",
   "id": "f65b58ae-6034-4d81-b0d8-ef1df39fdf1e",
   "metadata": {},
   "source": [
    "Now we can also use built-in `StateVector` methods providing sampling and measurement: "
   ]
  },
  {
   "cell_type": "code",
   "execution_count": null,
   "id": "fbe49343-120e-4c53-958a-23f063295098",
   "metadata": {},
   "outputs": [],
   "source": [
    "print(sv2)\n",
    "c = Counter()\n",
    "for s in sv2.samples(100): \n",
    "    c[s] += 1\n",
    "print(c)"
   ]
  },
  {
   "cell_type": "code",
   "execution_count": null,
   "id": "b2934b7e-a732-4346-97cf-381dc418feb4",
   "metadata": {},
   "outputs": [],
   "source": [
    "sv_4 = pcvl.StateVector(\"|0,1,1>\")-1j*pcvl.StateVector(\"|1,1,0>\")\n",
    "map_measure_sv_4 = sv_4.measure([1])\n",
    "for s, (p, sv) in map_measure_sv_4.items(): \n",
    "    print(s, p, sv)"
   ]
  },
  {
   "cell_type": "code",
   "execution_count": null,
   "id": "661ba75c-ed83-46c1-b9b5-aa3cc0549bd2",
   "metadata": {},
   "outputs": [],
   "source": [
    "map_measure_sv_4 = sv_4.measure([2])\n",
    "for s, (p, sv) in map_measure_sv_4.items(): \n",
    "    print(s, p, sv)"
   ]
  },
  {
   "cell_type": "markdown",
   "id": "0dd97622-14ca-41c4-bc0a-ad2eec49435e",
   "metadata": {},
   "source": [
    "## Modeling of a noisy photon source with a SVDistribution\n",
    "\n",
    "A `SVDistribution` is a mixed state of `StateVector` - it is commonly used to model noisy photon source.\n",
    "\n",
    "For that let us use the `pcvl.Source` object, it takes the following parameters:\n",
    "* `emission_probability`: `float` = 1,\n",
    "* `multiphoton_component`: `float` = 0,\n",
    "* `indistinguishability`: `float` = 1,\n",
    "* `losses`: `float` = 0\n",
    "  "
   ]
  },
  {
   "cell_type": "markdown",
   "id": "9e2a1d17-3b66-4a38-ba79-4f750b2e2d98",
   "metadata": {},
   "source": [
    "### Perfect Source\n",
    "\n",
    "<img src=\"img/perfect_source.png\">"
   ]
  },
  {
   "cell_type": "code",
   "execution_count": null,
   "id": "f68f4757-b01b-4d72-bfa7-976cdecf320a",
   "metadata": {},
   "outputs": [],
   "source": [
    "perfect_source = pcvl.Source(emission_probability=1, multiphoton_component=0, indistinguishability=1, losses=0)\n",
    "pcvl.pdisplay(perfect_source.probability_distribution())"
   ]
  },
  {
   "cell_type": "markdown",
   "id": "a0bba066-15e6-4edb-813c-a1854f42a1b4",
   "metadata": {},
   "source": [
    "<div class=\"alert alert-info\">\n",
    "    In the perfect case, the source emits a sequence of `|1>`\n",
    "</div>"
   ]
  },
  {
   "cell_type": "markdown",
   "id": "4e17aeb7-caa3-44d6-ba1f-03e0b8bdb503",
   "metadata": {},
   "source": [
    "### Real World Photon source\n",
    "\n",
    "<img src=\"img/realworld_source.png\">"
   ]
  },
  {
   "cell_type": "code",
   "execution_count": null,
   "id": "c7e62ffa-2557-4464-882f-33ac9cc1cd76",
   "metadata": {},
   "outputs": [],
   "source": [
    "realworld_source = pcvl.Source(emission_probability=0.5, multiphoton_component=0.02, indistinguishability=0.95, losses=0.7)\n",
    "pcvl.pdisplay(realworld_source.probability_distribution())"
   ]
  },
  {
   "cell_type": "markdown",
   "id": "62a76705-52a5-41b9-9c5b-b85c00604346",
   "metadata": {},
   "source": [
    "<div class=\"alert alert-warning\">\n",
    "    In the real world, with the parameters given to the source, 85% of the time, no photon is detected, 14.5% of the time, single indistinguishable photons are emitted (represented with <code>{_:0}</code>) - and the rest is a combination of g_2 and distinguishable photons\n",
    "</div>"
   ]
  },
  {
   "cell_type": "markdown",
   "id": "eac02765-aa02-4c6c-a3ae-0655d14dbc53",
   "metadata": {},
   "source": [
    "# LO-Components"
   ]
  },
  {
   "cell_type": "code",
   "execution_count": null,
   "id": "1bace448-e32d-4397-b9c1-a4021ef4e03c",
   "metadata": {},
   "outputs": [],
   "source": [
    "import perceval.components.unitary_components as pcvl_comp"
   ]
  },
  {
   "cell_type": "code",
   "execution_count": null,
   "id": "93403ff9-eebd-46fe-87aa-5813c5cfad02",
   "metadata": {},
   "outputs": [],
   "source": [
    "perm=pcvl_comp.PERM([2,0,1])\n",
    "# name of the component\n",
    "print(perm.name)\n",
    "# the definition of the component\n",
    "print(perm.describe())\n",
    "# the unitary matrix\n",
    "pcvl.pdisplay(perm.definition())\n",
    "# and the visual representation\n",
    "pcvl.pdisplay(perm)"
   ]
  },
  {
   "cell_type": "code",
   "execution_count": null,
   "id": "2f0d2498-44c0-4928-a2eb-5b4dc663f62a",
   "metadata": {},
   "outputs": [],
   "source": [
    "bs=pcvl_comp.BS()\n",
    "# name of the component\n",
    "print(bs.name)\n",
    "# the definition of the component\n",
    "print(bs.describe())\n",
    "# the unitary matrix\n",
    "pcvl.pdisplay(bs.definition())\n",
    "# the actual unitary matrix\n",
    "pcvl.pdisplay(bs.compute_unitary())\n",
    "# the visual representation\n",
    "pcvl.pdisplay(bs)"
   ]
  },
  {
   "cell_type": "code",
   "execution_count": null,
   "id": "f59a9997-9ccc-48fb-ba17-35c1a6c95524",
   "metadata": {},
   "outputs": [],
   "source": []
  }
 ],
 "metadata": {
  "kernelspec": {
   "display_name": "Python 3 (ipykernel)",
   "language": "python",
   "name": "python3"
  },
  "language_info": {
   "codemirror_mode": {
    "name": "ipython",
    "version": 3
   },
   "file_extension": ".py",
   "mimetype": "text/x-python",
   "name": "python",
   "nbconvert_exporter": "python",
   "pygments_lexer": "ipython3",
   "version": "3.10.10"
  }
 },
 "nbformat": 4,
 "nbformat_minor": 5
}
