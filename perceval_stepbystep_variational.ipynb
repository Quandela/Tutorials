{
 "cells": [
  {
   "cell_type": "markdown",
   "id": "4d66b6f0-805e-4aa9-a0bf-4bada0caf121",
   "metadata": {},
   "source": [
    "# Step by Step variational classification with Perceval"
   ]
  },
  {
   "cell_type": "code",
   "execution_count": null,
   "id": "e16ba717-177a-4391-b127-ca0b19cff24f",
   "metadata": {},
   "outputs": [],
   "source": [
    "import perceval as pcvl\n",
    "import numpy as np\n",
    "from scipy.optimize import minimize\n",
    "import time\n",
    "import tqdm"
   ]
  },
  {
   "cell_type": "markdown",
   "id": "8f2f798a-98a9-445c-9ada-c75c66bc0286",
   "metadata": {},
   "source": [
    "## Data loading and normalization"
   ]
  },
  {
   "cell_type": "code",
   "execution_count": null,
   "id": "0b7bdc0d-53b5-43c5-81de-552b126815c9",
   "metadata": {},
   "outputs": [],
   "source": [
    "# See qiskit notebook\n",
    "from sklearn.datasets import load_iris\n",
    "from sklearn.preprocessing import MinMaxScaler\n",
    "\n",
    "iris_data = load_iris()\n",
    "features = iris_data.data\n",
    "labels = iris_data.target"
   ]
  },
  {
   "cell_type": "code",
   "execution_count": null,
   "id": "e20a310f-f3f0-4f06-bc37-0f848b99e8c4",
   "metadata": {},
   "outputs": [],
   "source": [
    "# normalize the features\n",
    "features = MinMaxScaler().fit_transform(features)\n",
    "# split train, test\n",
    "from sklearn.model_selection import train_test_split\n",
    "train_features, test_features, train_labels, test_labels = train_test_split(\n",
    "    features, labels, train_size=0.8, random_state=123\n",
    ")"
   ]
  },
  {
   "cell_type": "markdown",
   "id": "78f50c60-595a-4a62-a826-52fd5db6d683",
   "metadata": {},
   "source": [
    "## A first draft\n",
    "We want a circuit composed of 3 blocks - see https://opg.optica.org/abstract.cfm?uri=CLEO_AT-2021-JW1A.73"
   ]
  },
  {
   "cell_type": "code",
   "execution_count": null,
   "id": "15662df3-ebde-43bb-8ec2-98f56dac5c59",
   "metadata": {},
   "outputs": [],
   "source": [
    "m = 4\n",
    "parameters = np.random.normal(size=4*m**2)\n",
    "\n",
    "px1, px2, px3, px4 = pcvl.P(\"px1\"),pcvl.P(\"px2\"),pcvl.P(\"px3\"),pcvl.P(\"px4\")\n",
    "c = pcvl.Unitary(pcvl.Matrix.parametrized_unitary(m, parameters[:2 * m ** 2]), name=\"W1\")\\\n",
    "     // (0, pcvl.PS(px1)) // (1, pcvl.PS(px2)) // (2, pcvl.PS(px3)) // (3, pcvl.PS(px4))\\\n",
    "     // pcvl.Unitary(pcvl.Matrix.parametrized_unitary(m, parameters[2 * m ** 2:]), name=\"W2\")\n",
    "\n",
    "backend = pcvl.BackendFactory().get_backend(\"SLOS\")\n",
    "backend.set_circuit(pcvl.Unitary(pcvl.Matrix.random_unitary(m)))\n",
    "backend.preprocess([pcvl.BasicState([1]*m)])\n",
    "\n",
    "pcvl.pdisplay(c)"
   ]
  },
  {
   "cell_type": "markdown",
   "id": "c4235a4c-d95f-4bbe-b7a4-1b272d5bdd30",
   "metadata": {},
   "source": [
    "However, we won't do such a dynamic circuit since compilation will shuffle all the parameters around when the unitary will be built - let us directly control the phases on our QPU\n",
    "\n",
    "## Physical Implementation on QPU Ascella\n",
    "\n",
    "First let us get a token on https://cloud.quandela.com"
   ]
  },
  {
   "cell_type": "code",
   "execution_count": null,
   "id": "a22df309-1345-4f99-ba43-e30de1443206",
   "metadata": {},
   "outputs": [],
   "source": [
    "qpu_token = \"YOUR TOKEN\"\n",
    "processor = pcvl.RemoteProcessor(\"qpu:ascella\", qpu_token)\n",
    "circuit = processor.specs[\"specific_circuit\"]\n",
    "circuit_phases = circuit.get_parameters()"
   ]
  },
  {
   "cell_type": "code",
   "execution_count": null,
   "id": "1ce8184e-3892-45d6-8e8f-5ab2ec956d62",
   "metadata": {},
   "outputs": [],
   "source": [
    "# We have retrieved the circuit corresponding to Ascella\n",
    "pcvl.pdisplay(circuit)"
   ]
  },
  {
   "cell_type": "markdown",
   "id": "4c019a18-8453-4c8c-af9e-6317694f79d3",
   "metadata": {},
   "source": [
    "### Chip manual identification of phases and selection of phases"
   ]
  },
  {
   "cell_type": "code",
   "execution_count": null,
   "id": "395a8138-9aef-487a-91e8-2f8de9f752ba",
   "metadata": {},
   "outputs": [],
   "source": [
    "# set all phases to 0 => no energy used\n",
    "for p in circuit_phases:\n",
    "    p.set_value(0)\n",
    "    \n",
    "# let us change phases after the 4 first modes to build a reflexive boundary\n",
    "boundary = [14,36,58,80,102,122]\n",
    "for b in boundary:\n",
    "    circuit_phases[b].set_value(np.pi)\n",
    "\n",
    "# let us select parameters for weights W1/W2, and parameters (we need 4)\n",
    "weight_left = [0, 1, 2, 3] # we could add these ones , 22, 23, 24, 25]\n",
    "circuit_params = [44, 46, 66, 68 ]\n",
    "weight_right = [88, 89, 90, 91] # we could add these ones , 110, 111, 112, 113]\n",
    "n_weights= len(weight_left)+len(weight_right)\n",
    "\n",
    "# visualize the weights and params by setting resp value 1, 2, 3\n",
    "for w in weight_left:\n",
    "    circuit_phases[w].set_value(1)\n",
    "for p in params:\n",
    "    circuit_phases[p].set_value(2)\n",
    "for w in weight_right:\n",
    "    circuit_phases[w].set_value(3)\n",
    "\n",
    "pcvl.pdisplay(circuit)"
   ]
  },
  {
   "cell_type": "markdown",
   "id": "505cbaf7-7003-4a0e-a351-7d323737025b",
   "metadata": {},
   "source": [
    "### Configuration of the processor"
   ]
  },
  {
   "cell_type": "code",
   "execution_count": null,
   "id": "1d948956-ad3d-430b-b83f-f22dd3519a9c",
   "metadata": {},
   "outputs": [],
   "source": [
    "# We are using here a simulator, but we could reuse the processor above for run on QPU\n",
    "sim_processor = pcvl.Processor(\"SLOS\", circuit)\n",
    "sim_processor.with_input(pcvl.BasicState([0,1,0,1]+[0]*8))"
   ]
  },
  {
   "cell_type": "markdown",
   "id": "a84e61af-edfa-435a-a708-c0306032e7b0",
   "metadata": {},
   "source": [
    "### Utility functions - computation of the result, and loss"
   ]
  },
  {
   "cell_type": "code",
   "execution_count": null,
   "id": "09825dd1-b05b-4a81-ba2c-48a1cec13e20",
   "metadata": {},
   "outputs": [],
   "source": [
    "def computation(w, params):\n",
    "    if w is not None:\n",
    "        # if we don't provide weights, we keep last values\n",
    "        for idx, w in enumerate(w):\n",
    "            if idx < len(weight_left):\n",
    "                circuit_phases[weight_left[idx]].set_value(w*2*np.pi)\n",
    "            else:\n",
    "                circuit_phases[weight_right[idx-len(weight_left)]].set_value(w*2*np.pi)\n",
    "\n",
    "    for idx, p in enumerate(params):\n",
    "        circuit_phases[circuit_params[idx]].set_value(p*2*np.pi)\n",
    "\n",
    "    # We sample from the processor defined above\n",
    "    sampler = pcvl.algorithm.Sampler(sim_processor)\n",
    "    results = sampler.sample_count(1024)\n",
    "    \n",
    "    return results"
   ]
  },
  {
   "cell_type": "code",
   "execution_count": null,
   "id": "6375fa01-d30e-4b08-a564-610b009d090e",
   "metadata": {},
   "outputs": [],
   "source": [
    "# let us test how this works with random weights and parameters\n",
    "r = computation([0.2]*n_weights,[0]*4)"
   ]
  },
  {
   "cell_type": "code",
   "execution_count": null,
   "id": "31ca45a0-0d59-4d58-8407-6b030714c31d",
   "metadata": {},
   "outputs": [],
   "source": [
    "pcvl.pdisplay(r[\"results\"])"
   ]
  },
  {
   "cell_type": "code",
   "execution_count": null,
   "id": "d0d61ba9-6b9b-4806-a87e-d1aa3569bd3c",
   "metadata": {},
   "outputs": [],
   "source": [
    "# we map the states without bunching to the 3 features\n",
    "# 1001... and 0110... => class 1\n",
    "# 0011... and 1100... => class 2\n",
    "# 1010... and 0101... => class 3\n",
    "# otherwise ignored\n",
    "\n",
    "def map(output_state):\n",
    "    so=str(output_state[0:4])\n",
    "    if so==\"|1,0,0,1>\" or so==\"|0,1,1,0>\":\n",
    "        return 1\n",
    "    if so==\"|0,0,1,1>\" or so==\"|1,1,0,0>\":\n",
    "        return 2\n",
    "    if so==\"|1,0,1,0>\" or so==\"|0,1,0,1>\":\n",
    "        return 3\n",
    "    return 0"
   ]
  },
  {
   "cell_type": "code",
   "execution_count": null,
   "id": "3794a8b1-af71-425f-89b6-b4702a3165fd",
   "metadata": {},
   "outputs": [],
   "source": [
    "# test mapping\n",
    "map(pcvl.BasicState(\"|1,1,0,0,0,0,0,0,0,0,0,0>\"))"
   ]
  },
  {
   "cell_type": "code",
   "execution_count": null,
   "id": "d8e04ca7-697a-439c-ab6f-732b5e40e648",
   "metadata": {},
   "outputs": [],
   "source": [
    "# calculate the loss function as the distance to the class probability\n",
    "\n",
    "def loss(w, params, label):\n",
    "    o = computation(w, params)[\"results\"]\n",
    "    total_counts = 0\n",
    "    counts = [0, 0, 0]\n",
    "    for bs, count in o.items():\n",
    "        the_class = map(bs)\n",
    "        if the_class:\n",
    "            counts[the_class-1] += count\n",
    "            total_counts += count\n",
    "    return 1-counts[label-1]/total_counts"
   ]
  },
  {
   "cell_type": "code",
   "execution_count": null,
   "id": "7ca68c20-e35d-4f2d-a52a-a0f2b22844a8",
   "metadata": {},
   "outputs": [],
   "source": [
    "# and select the \"best\" label (the one with highest probability)\n",
    "\n",
    "def best_label(w, params):\n",
    "    o = computation(w, params)[\"results\"]\n",
    "    counts = [0, 0, 0]\n",
    "    for bs, count in o.items():\n",
    "        the_class = map(bs)\n",
    "        if the_class:\n",
    "            counts[the_class-1] += count\n",
    "    max_count = max(counts)\n",
    "    return counts.index(max_count)+1"
   ]
  },
  {
   "cell_type": "code",
   "execution_count": null,
   "id": "fbe0b327-344d-4cb0-b101-49bc70e31476",
   "metadata": {},
   "outputs": [],
   "source": [
    "# test loss function and best_label selection\n",
    "print(loss([0.2]*n_weights,[0.1]*4, 3))\n",
    "print(best_label(None,[0.1]*4))"
   ]
  },
  {
   "cell_type": "code",
   "execution_count": null,
   "id": "d2750a2c-0f6a-4d5c-af35-b051b079c97a",
   "metadata": {},
   "outputs": [],
   "source": [
    "# total loss for all the train sample\n",
    "current_loss = 0\n",
    "total_computation = 0\n",
    "def total_loss(w):\n",
    "    global current_loss\n",
    "    global total_computation\n",
    "    total_loss = 0\n",
    "    set_w = w\n",
    "    for feat, label in zip(train_features, train_labels):\n",
    "        total_loss += loss(set_w, list(feat), label+1)\n",
    "        set_w = None\n",
    "    current_loss = total_loss/len(train_features)\n",
    "    total_computation += 1\n",
    "    return current_loss"
   ]
  },
  {
   "cell_type": "code",
   "execution_count": null,
   "id": "5c059579-6530-4678-89b6-d31d45c06ded",
   "metadata": {},
   "outputs": [],
   "source": [
    "# accuracy of the classification for set of features/labels\n",
    "def accuracy(features, labels):\n",
    "    acc = 0\n",
    "    for feat, label in zip(features, labels):\n",
    "        pred_label = best_label(None, list(feat))\n",
    "        if pred_label == label+1:\n",
    "            acc += 1\n",
    "    return acc/len(features)"
   ]
  },
  {
   "cell_type": "code",
   "execution_count": null,
   "id": "ad85b333-0e48-4604-8f07-43c9873f4eff",
   "metadata": {},
   "outputs": [],
   "source": [
    "total_loss([0.2]*n_weights)\n",
    "accuracy(train_features, train_labels)"
   ]
  },
  {
   "cell_type": "code",
   "execution_count": null,
   "id": "c85b70a8-2126-46c4-9e96-909691bac4d6",
   "metadata": {},
   "outputs": [],
   "source": [
    "# callback function that will allow us to see how the run progress\n",
    "def callbackF(parameters):\n",
    "    \"\"\"callback function called by scipy.optimize.minimize allowing to monitor progress\"\"\"\n",
    "    global current_loss\n",
    "    global loss_evolution\n",
    "    global total_computation\n",
    "    global start_time\n",
    "    now = time.time()\n",
    "    pbar.set_description(\"Loss: %0.5f elapsed: %0.5f total computation: %d accuracy: %f\" %\n",
    "                         (current_loss, now-start_time, total_computation, accuracy(test_features, test_labels)))\n",
    "    pbar.update(1)\n",
    "    loss_evolution.append((current_loss, now-start_time))\n",
    "    computation_count = 0\n",
    "    start_time = now"
   ]
  },
  {
   "cell_type": "markdown",
   "id": "99f29b74-f02d-4759-9a45-2824c42c261d",
   "metadata": {},
   "source": [
    "### The classical optimization"
   ]
  },
  {
   "cell_type": "code",
   "execution_count": null,
   "id": "edca501d-ebfd-414f-949c-83de2fab34cb",
   "metadata": {},
   "outputs": [],
   "source": [
    "current_loss = 0\n",
    "start_time = time.time()\n",
    "loss_evolution = []\n",
    "\n",
    "weights = np.random.normal(size=n_weights)\n",
    "\n",
    "pbar = tqdm.tqdm()\n",
    "res = minimize(total_loss, weights, callback=callbackF, method='Nelder-Mead')"
   ]
  },
  {
   "cell_type": "markdown",
   "id": "900fb0ec-db39-4d06-8937-557dbb251025",
   "metadata": {},
   "source": [
    "### What's next?\n",
    "\n",
    "With the 8 parameters, we reach a plateau around 50% accuracy - we can do better though:\n",
    "\n",
    "* Increase the number of parameters\n",
    "* Smarter mapping function - it can even be learnt\n",
    "* Smarter Ansatz - not just random\n",
    "* Data re-uploading\n",
    "\n",
    "See perceval_tutorial_variational_classifier for a full implementation with almost 100% accuracy!"
   ]
  },
  {
   "cell_type": "code",
   "execution_count": null,
   "id": "5202cb25-fdd6-446b-bc3e-33ac5e431382",
   "metadata": {},
   "outputs": [],
   "source": []
  }
 ],
 "metadata": {
  "kernelspec": {
   "display_name": "Python 3 (ipykernel)",
   "language": "python",
   "name": "python3"
  },
  "language_info": {
   "codemirror_mode": {
    "name": "ipython",
    "version": 3
   },
   "file_extension": ".py",
   "mimetype": "text/x-python",
   "name": "python",
   "nbconvert_exporter": "python",
   "pygments_lexer": "ipython3",
   "version": "3.12.6"
  }
 },
 "nbformat": 4,
 "nbformat_minor": 5
}
