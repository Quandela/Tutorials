{
 "cells": [
  {
   "cell_type": "code",
   "execution_count": null,
   "id": "a6f8a2c2-8a5f-4070-a126-231150d2d6ed",
   "metadata": {},
   "outputs": [],
   "source": [
    "#!pip install qiskit_ibm_provider\n",
    "#!pip install seaborn\n",
    "#!pip install pylatexenc"
   ]
  },
  {
   "cell_type": "code",
   "execution_count": null,
   "id": "42ca8ad7-8997-4cc8-8a50-19dbf451338c",
   "metadata": {},
   "outputs": [],
   "source": [
    "from qiskit_ibm_provider import IBMProvider"
   ]
  },
  {
   "cell_type": "markdown",
   "id": "08fd1710-715e-496e-b833-70b02f6ff68b",
   "metadata": {},
   "source": [
    "# Providers"
   ]
  },
  {
   "cell_type": "code",
   "execution_count": null,
   "id": "5fdb57e8-0d27-4bed-b572-2d079dde865a",
   "metadata": {},
   "outputs": [],
   "source": [
    "# do it only once\n",
    "IBMProvider.save_account(token='MY_TOKEN', overwrite=True)"
   ]
  },
  {
   "cell_type": "code",
   "execution_count": null,
   "id": "2343c316-8e45-4c18-80db-2da89ca10d12",
   "metadata": {},
   "outputs": [],
   "source": [
    "provider = IBMProvider()"
   ]
  },
  {
   "cell_type": "code",
   "execution_count": null,
   "id": "f1f3f87d-9ca7-46f5-be37-f10e2ad5456d",
   "metadata": {},
   "outputs": [],
   "source": [
    "print(provider.backends())"
   ]
  },
  {
   "cell_type": "code",
   "execution_count": null,
   "id": "a871ed94-1a74-40b8-8caf-d3ed53070422",
   "metadata": {},
   "outputs": [],
   "source": [
    "for backend in provider.backends():\n",
    "    try:\n",
    "        print(backend.name, backend.num_qubits, backend.status().status_msg, backend.status().pending_jobs)\n",
    "        print(backend.coupling_map)\n",
    "        instructions = set()\n",
    "        for inst, _ in backend.instructions:\n",
    "            if isinstance(inst.name,str) and inst.name not in backend.configuration().basis_gates:\n",
    "                instructions.add(inst.name)\n",
    "        print(\"\\tsupports: \", backend.configuration().basis_gates, \"+\", instructions)\n",
    "    except:\n",
    "        pass"
   ]
  },
  {
   "cell_type": "code",
   "execution_count": null,
   "id": "814c1ac1-50e2-406a-b763-83e0bfa35f46",
   "metadata": {},
   "outputs": [],
   "source": [
    "simulator_backend = provider.get_backend('ibmq_qasm_simulator')\n",
    "kyoto_backend = provider.get_backend('ibm_kyoto')"
   ]
  },
  {
   "cell_type": "code",
   "execution_count": null,
   "id": "b50d258b-4dfc-4fae-9520-dd0069e4be3c",
   "metadata": {},
   "outputs": [],
   "source": [
    "from qiskit.tools.visualization import plot_gate_map\n",
    "print(kyoto_backend.configuration().coupling_map)\n",
    "plot_gate_map(kyoto_backend)"
   ]
  },
  {
   "cell_type": "code",
   "execution_count": null,
   "id": "94a426f9-396c-4239-94a0-ce3e51a19cd0",
   "metadata": {},
   "outputs": [],
   "source": [
    "#Can we check coupling map for simulator?\n",
    "###ENTER CODE HERE\n",
    "###END CODE"
   ]
  },
  {
   "cell_type": "markdown",
   "id": "4fd46daf-7323-4d2f-b0fc-7209b890ccd5",
   "metadata": {},
   "source": [
    "# Simulation"
   ]
  },
  {
   "cell_type": "code",
   "execution_count": null,
   "id": "597c1d93-54af-468c-9ed5-2f1a07b96c9b",
   "metadata": {},
   "outputs": [],
   "source": [
    "# Our first circuit !\n",
    "from qiskit import QuantumCircuit\n",
    "circuit = QuantumCircuit(2)\n",
    "circuit.h(0)\n",
    "circuit.cx(0, 1)\n",
    "circuit.measure_all()\n",
    "\n",
    "circuit.draw(initial_state=True)\n",
    "circuit.draw(output='mpl', style=\"iqp\") # style=\"clifford\""
   ]
  },
  {
   "cell_type": "code",
   "execution_count": null,
   "id": "80280879-eff8-471a-82f1-5afaaf44529e",
   "metadata": {},
   "outputs": [],
   "source": [
    "from qiskit.quantum_info import Statevector\n",
    "from qiskit import Aer\n",
    "from qiskit_aer import AerSimulator\n",
    "from qiskit.tools.visualization import plot_histogram\n",
    "local_simulator = Aer.get_backend('aer_simulator')\n",
    "local_kyoto_simulator = AerSimulator.from_backend(kyoto_backend)\n",
    "job = local_simulator.run(circuit, shots=1024)"
   ]
  },
  {
   "cell_type": "code",
   "execution_count": null,
   "id": "b964f818-e9f4-419f-8956-cc315dfd29e9",
   "metadata": {},
   "outputs": [],
   "source": [
    "print(job.status())"
   ]
  },
  {
   "cell_type": "code",
   "execution_count": null,
   "id": "ce7a8a1f-bddd-4664-a96b-0d874c5652c3",
   "metadata": {},
   "outputs": [],
   "source": [
    "result_qasm = job.result()\n",
    "print(result_qasm.get_counts())"
   ]
  },
  {
   "cell_type": "code",
   "execution_count": null,
   "id": "4b4e595e-156c-4636-b61b-3ea6eaf2c692",
   "metadata": {},
   "outputs": [],
   "source": [
    "result_kyoto = local_kyoto_simulator.run(circuit, shots=1024).result()\n",
    "print(result_kyoto.get_counts())"
   ]
  },
  {
   "cell_type": "code",
   "execution_count": null,
   "id": "6604d14d-c9fa-4f92-8b74-910f47871acc",
   "metadata": {},
   "outputs": [],
   "source": [
    "plot_histogram([result_qasm.get_counts(), result_kyoto.get_counts()], legend=[\"ideal\", \"noisy\"])"
   ]
  },
  {
   "cell_type": "code",
   "execution_count": null,
   "id": "710031b2-19bc-4b88-8cd1-03d28d8911b0",
   "metadata": {},
   "outputs": [],
   "source": [
    "## Calculate fidelity with precision linked to sampling noise\n",
    "\n",
    "###ENTER CODE HERE\n",
    "###END CODE"
   ]
  },
  {
   "cell_type": "code",
   "execution_count": null,
   "id": "98ef2a8d-aa43-4d4b-8338-66ca7458a3cf",
   "metadata": {},
   "outputs": [],
   "source": [
    "# let us check statevector now\n",
    "circuit2 = QuantumCircuit(2)\n",
    "circuit2.h(0)\n",
    "circuit2.cx(0, 1)\n",
    "circuit2.save_statevector()"
   ]
  },
  {
   "cell_type": "code",
   "execution_count": null,
   "id": "6a97b5d6-0f70-479e-b723-8787d3e34d5e",
   "metadata": {},
   "outputs": [],
   "source": [
    "from qiskit.tools.visualization import plot_state_qsphere\n",
    "sv1 = local_simulator.run(circuit2).result().get_statevector()\n",
    "plot_state_qsphere(sv1)"
   ]
  },
  {
   "cell_type": "code",
   "execution_count": null,
   "id": "e5835feb-ab4a-4889-8a04-1c864fdb82e6",
   "metadata": {},
   "outputs": [],
   "source": [
    "sv1.draw('latex', prefix='The\\ state\\ vector:')"
   ]
  },
  {
   "cell_type": "code",
   "execution_count": null,
   "id": "3a2f3ef8-841b-4ef7-b0b0-e7ba14434eba",
   "metadata": {},
   "outputs": [],
   "source": [
    "## Can we do the same on noisy simulator? comment...\n",
    "\n",
    "###ENTER CODE HERE\n",
    "###END CODE"
   ]
  },
  {
   "cell_type": "markdown",
   "id": "c70ec759-d129-4285-9bd6-643f08f2ec3d",
   "metadata": {},
   "source": [
    "# Conditional X gate\n",
    "\n",
    "Using `c_if` - you can make a gate conditional in your circuit - syntax is:\n",
    "\n",
    "<code>\n",
    "circuit.x(qreg).c_if(creg, 1)\n",
    "</code>\n",
    "\n",
    "Modify the circuit above to add a conditional X gate on the second qubit, if the value of the register is 0, what is the new circuit?"
   ]
  },
  {
   "cell_type": "code",
   "execution_count": null,
   "id": "a023801c-98a1-4d93-a81d-a42254e0d71b",
   "metadata": {},
   "outputs": [],
   "source": [
    "qc_ghz = QuantumCircuit(3)\n",
    "###ENTER CODE HERE\n",
    "###END CODE"
   ]
  },
  {
   "cell_type": "markdown",
   "id": "efe88ae4-8093-442d-9446-c272f1fa4da8",
   "metadata": {},
   "source": [
    "# Transpilation, Compilation, Assembling\n",
    "\n",
    "You can use the following to check the size of your circuit:\n",
    "<code>\n",
    "qc.width()\n",
    "qc.count_ops()\n",
    "qc.size()\n",
    "qc.depth()\n",
    "</code>\n",
    "\n",
    "Build a GHZ state $|000\\rangle+|111\\rangle$ and check these different values..."
   ]
  },
  {
   "cell_type": "code",
   "execution_count": null,
   "id": "6b1eddb9-9a72-401b-b78f-d50f697ce058",
   "metadata": {},
   "outputs": [],
   "source": [
    "###ENTER CODE HERE\n",
    "###END CODE\n",
    "\n",
    "print(f\"initial: width={qc_ghz.width()}, counts_ops={qc_ghz.count_ops()}, size={qc_ghz.size()}, depth={qc_ghz.depth()}\")"
   ]
  },
  {
   "cell_type": "code",
   "execution_count": null,
   "id": "af02efe6-f7c4-42c4-9482-7e515d9c5aa8",
   "metadata": {},
   "outputs": [],
   "source": [
    "# do the same on the decomposed circuit\n",
    "qc_basis = qc_ghz.decompose()\n",
    "print(f\"decompose: width={qc_basis.width()}, counts_ops={qc_basis.count_ops()}, size={qc_basis.size()}, depth={qc_basis.depth()}\")\n",
    "qc_basis.draw(output='mpl')"
   ]
  },
  {
   "cell_type": "code",
   "execution_count": null,
   "id": "bf710b0f-b0dd-4ee6-874c-1f8a3af69cfb",
   "metadata": {},
   "outputs": [],
   "source": [
    "# ok - let transpile now the circuit and checks what it becomes on physical hardware\n",
    "from qiskit.compiler import transpile\n",
    "transp_3 = transpile(qc_ghz, kyoto_backend, optimization_level=3)\n",
    "transp_3.draw(output='mpl')\n",
    "print(f\"transpiled: width={qc_basis.width()}, counts_ops={qc_basis.count_ops()}, size={qc_basis.size()}, depth={qc_basis.depth()}\")"
   ]
  },
  {
   "cell_type": "code",
   "execution_count": null,
   "id": "f8664089-8a02-4282-80e1-41251e0393e6",
   "metadata": {},
   "outputs": [],
   "source": [
    "# is there difference with optimization level 1 and 2\n",
    "###ENTER CODE HERE\n",
    "###END CODE"
   ]
  },
  {
   "cell_type": "code",
   "execution_count": null,
   "id": "646eafd9-95d2-4350-acaa-4addb98ea805",
   "metadata": {},
   "outputs": [],
   "source": [
    "# How is the circuit transpiled on the actual layout?\n",
    "from qiskit.visualization import plot_circuit_layout\n",
    "plot_circuit_layout(transp_1, kyoto_backend)"
   ]
  },
  {
   "cell_type": "code",
   "execution_count": null,
   "id": "7b501f9f-d8ce-4725-a985-98ab9df056f4",
   "metadata": {},
   "outputs": [],
   "source": [
    "# Let us check on Assembling of transp_1\n",
    "\n",
    "qobj_1 = assemble(transp_1)\n",
    "print(qobj_1)"
   ]
  },
  {
   "cell_type": "code",
   "execution_count": null,
   "id": "5d9d08ef-e046-48ce-bf90-8baba68cb3d0",
   "metadata": {},
   "outputs": [],
   "source": [
    "# How does conditional gates assemble\n",
    "\n",
    "###ENTER CODE HERE\n",
    "###END CODE"
   ]
  },
  {
   "cell_type": "markdown",
   "id": "c4d600c1-fb86-4495-bf12-59cbe0be3ca7",
   "metadata": {},
   "source": [
    "# Machine Learning with Qiskit"
   ]
  },
  {
   "cell_type": "code",
   "execution_count": null,
   "id": "90a4e7a0-ac8b-42c7-a3bd-7a591db8cd85",
   "metadata": {},
   "outputs": [],
   "source": [
    "!pip install 'qiskit-machine-learning[torch]'\n",
    "!pip install scikit-learn"
   ]
  },
  {
   "cell_type": "markdown",
   "id": "7c3a2376-fb99-411f-8f4c-2e7ab093b60f",
   "metadata": {},
   "source": [
    "Let us train a variational quantum classifier on the (toy) iris model!\n",
    "\n",
    "## Data preparation and examination"
   ]
  },
  {
   "cell_type": "code",
   "execution_count": null,
   "id": "86a75520-1ca6-4bd9-962d-e4b0fb5dc8ec",
   "metadata": {},
   "outputs": [],
   "source": [
    "from sklearn.datasets import load_iris\n",
    "\n",
    "iris_data = load_iris()\n",
    "print(iris_data.DESCR)"
   ]
  },
  {
   "cell_type": "code",
   "execution_count": null,
   "id": "1b45f6a8-967c-43ee-85c9-56dd7ffd411d",
   "metadata": {},
   "outputs": [],
   "source": [
    "features = iris_data.data\n",
    "labels = iris_data.target"
   ]
  },
  {
   "cell_type": "code",
   "execution_count": null,
   "id": "e2a0865d-c25b-4a76-bd51-3bf7d4508b01",
   "metadata": {},
   "outputs": [],
   "source": [
    "# normalize the data\n",
    "from sklearn.preprocessing import MinMaxScaler\n",
    "features = MinMaxScaler().fit_transform(features)\n",
    "\n",
    "import pandas as pd\n",
    "import seaborn as sns\n",
    "\n",
    "df = pd.DataFrame(iris_data.data, columns=iris_data.feature_names)\n",
    "df[\"class\"] = pd.Series(iris_data.target)\n",
    "\n",
    "sns.pairplot(df, hue=\"class\", palette=\"tab10\")"
   ]
  },
  {
   "cell_type": "markdown",
   "id": "c9f6f07c-9c59-4417-86bf-02b8c9a92d94",
   "metadata": {},
   "source": [
    "## First - let us compare with sklearn"
   ]
  },
  {
   "cell_type": "code",
   "execution_count": null,
   "id": "9b8ae9e9-a20b-4624-a20a-a2b7044758fa",
   "metadata": {},
   "outputs": [],
   "source": [
    "from sklearn.model_selection import train_test_split\n",
    "from qiskit_algorithms.utils import algorithm_globals\n",
    "\n",
    "algorithm_globals.random_seed = 123\n",
    "train_features, test_features, train_labels, test_labels = train_test_split(\n",
    "    features, labels, train_size=0.8, random_state=algorithm_globals.random_seed\n",
    ")"
   ]
  },
  {
   "cell_type": "code",
   "execution_count": null,
   "id": "a30ac40c-45bf-43e7-a6a1-80b1bc27f418",
   "metadata": {},
   "outputs": [],
   "source": [
    "from sklearn.svm import SVC\n",
    "\n",
    "svc = SVC()\n",
    "_ = svc.fit(train_features, train_labels) "
   ]
  },
  {
   "cell_type": "code",
   "execution_count": null,
   "id": "21895062-6d08-48fa-8888-9066f58e9a62",
   "metadata": {},
   "outputs": [],
   "source": [
    "train_score_c4 = svc.score(train_features, train_labels)\n",
    "test_score_c4 = svc.score(test_features, test_labels)\n",
    "\n",
    "print(f\"Classical SVC on the training dataset: {train_score_c4:.2f}\")\n",
    "print(f\"Classical SVC on the test dataset:     {test_score_c4:.2f}\")"
   ]
  },
  {
   "cell_type": "markdown",
   "id": "3f1c0246-865d-475a-b5b9-f90bac0687be",
   "metadata": {},
   "source": [
    "## Now, let us train a Quatum Model"
   ]
  },
  {
   "cell_type": "code",
   "execution_count": null,
   "id": "8edf92fe-56a4-49d8-bd8f-173105cdc2ad",
   "metadata": {},
   "outputs": [],
   "source": [
    "# We need to map our feature in the circuit, we will be using ZZFeatureMap\n",
    "from qiskit.circuit.library import ZZFeatureMap\n",
    "\n",
    "num_features = features.shape[1]\n",
    "\n",
    "feature_map = ZZFeatureMap(feature_dimension=num_features, reps=1)\n",
    "feature_map.decompose().draw(output=\"mpl\", fold=20)"
   ]
  },
  {
   "cell_type": "code",
   "execution_count": null,
   "id": "e6de343a-3db3-48e8-8abc-28c719f53d0d",
   "metadata": {},
   "outputs": [],
   "source": [
    "# and use Real Amplitude as the training parameters\n",
    "\n",
    "from qiskit.circuit.library import RealAmplitudes\n",
    "\n",
    "ansatz = RealAmplitudes(num_qubits=num_features, reps=3)\n",
    "ansatz.decompose().draw(output=\"mpl\", fold=20)"
   ]
  },
  {
   "cell_type": "code",
   "execution_count": null,
   "id": "aaafcb56-1b47-4a46-b400-1f3209a52086",
   "metadata": {},
   "outputs": [],
   "source": [
    "from qiskit_algorithms.optimizers import COBYLA\n",
    "\n",
    "optimizer = COBYLA(maxiter=100)"
   ]
  },
  {
   "cell_type": "code",
   "execution_count": null,
   "id": "f8efe8a6-73aa-4352-b98f-14ccd482ec74",
   "metadata": {},
   "outputs": [],
   "source": [
    "from qiskit.primitives import Sampler\n",
    "\n",
    "sampler = Sampler()"
   ]
  },
  {
   "cell_type": "code",
   "execution_count": null,
   "id": "9a109dd1-0514-457e-b183-aceb032e5195",
   "metadata": {},
   "outputs": [],
   "source": [
    "from matplotlib import pyplot as plt\n",
    "from IPython.display import clear_output\n",
    "\n",
    "objective_func_vals = []\n",
    "plt.rcParams[\"figure.figsize\"] = (12, 6)\n",
    "\n",
    "\n",
    "def callback_graph(weights, obj_func_eval):\n",
    "    clear_output(wait=True)\n",
    "    objective_func_vals.append(obj_func_eval)\n",
    "    plt.title(\"Objective function value against iteration\")\n",
    "    plt.xlabel(\"Iteration\")\n",
    "    plt.ylabel(\"Objective function value\")\n",
    "    plt.plot(range(len(objective_func_vals)), objective_func_vals)\n",
    "    plt.show()"
   ]
  },
  {
   "cell_type": "code",
   "execution_count": null,
   "id": "c47381df-e296-4a4e-b55b-78bfb3b69772",
   "metadata": {},
   "outputs": [],
   "source": [
    "# Training the model\n",
    "import time\n",
    "from qiskit_machine_learning.algorithms.classifiers import VQC\n",
    "\n",
    "vqc = VQC(\n",
    "    sampler=sampler,\n",
    "    feature_map=feature_map,\n",
    "    ansatz=ansatz,\n",
    "    optimizer=optimizer,\n",
    "    callback=callback_graph,\n",
    ")\n",
    "\n",
    "# clear objective value history\n",
    "objective_func_vals = []\n",
    "\n",
    "start = time.time()\n",
    "vqc.fit(train_features, train_labels)\n",
    "elapsed = time.time() - start\n",
    "\n",
    "print(f\"Training time: {round(elapsed)} seconds\")"
   ]
  },
  {
   "cell_type": "code",
   "execution_count": null,
   "id": "f9408cd3-93af-41bd-9823-236bb00dc6bd",
   "metadata": {},
   "outputs": [],
   "source": [
    "# How does the model perform?\n",
    "\n",
    "\n",
    "train_score_q4 = vqc.score(train_features, train_labels)\n",
    "test_score_q4 = vqc.score(test_features, test_labels)\n",
    "\n",
    "print(f\"Quantum VQC on the training dataset: {train_score_q4:.2f}\")\n",
    "print(f\"Quantum VQC on the test dataset:     {test_score_q4:.2f}\")"
   ]
  },
  {
   "cell_type": "code",
   "execution_count": null,
   "id": "06d707b7-ea5e-466a-8fbe-c433bc97c496",
   "metadata": {},
   "outputs": [],
   "source": []
  }
 ],
 "metadata": {
  "kernelspec": {
   "display_name": "Python 3 (ipykernel)",
   "language": "python",
   "name": "python3"
  },
  "language_info": {
   "codemirror_mode": {
    "name": "ipython",
    "version": 3
   },
   "file_extension": ".py",
   "mimetype": "text/x-python",
   "name": "python",
   "nbconvert_exporter": "python",
   "pygments_lexer": "ipython3",
   "version": "3.10.10"
  }
 },
 "nbformat": 4,
 "nbformat_minor": 5
}
