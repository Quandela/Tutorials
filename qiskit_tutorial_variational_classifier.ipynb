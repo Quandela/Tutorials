{
 "cells": [
  {
   "cell_type": "markdown",
   "id": "c4d600c1-fb86-4495-bf12-59cbe0be3ca7",
   "metadata": {},
   "source": [
    "# Machine Learning with Qiskit"
   ]
  },
  {
   "cell_type": "markdown",
   "id": "8a87134f-20e4-4ca9-822c-91f1ed7d5200",
   "metadata": {},
   "source": [
    "# Training a Quantum Model on a Real Dataset\n",
    "\n",
    "This notebook is coming from: https://qiskit.org/ecosystem/machine-learning/tutorials/02a_training_a_quantum_model_on_a_real_dataset.html"
   ]
  },
  {
   "cell_type": "code",
   "execution_count": null,
   "id": "90a4e7a0-ac8b-42c7-a3bd-7a591db8cd85",
   "metadata": {},
   "outputs": [],
   "source": [
    "#!pip install 'qiskit-machine-learning'\n",
    "#!pip install scikit-learn\n",
    "#!pip install pandas\n",
    "#!pip install seaborn\n",
    "#!pip install matplotlib\n",
    "#!pip install pylatexenc"
   ]
  },
  {
   "cell_type": "markdown",
   "id": "7c3a2376-fb99-411f-8f4c-2e7ab093b60f",
   "metadata": {},
   "source": [
    "Let us train a variational quantum classifier on the (toy) iris model!\n",
    "\n",
    "## Data preparation and examination"
   ]
  },
  {
   "cell_type": "code",
   "execution_count": null,
   "id": "86a75520-1ca6-4bd9-962d-e4b0fb5dc8ec",
   "metadata": {},
   "outputs": [],
   "source": [
    "from sklearn.datasets import load_iris\n",
    "\n",
    "iris_data = load_iris()\n",
    "print(iris_data.DESCR)"
   ]
  },
  {
   "cell_type": "code",
   "execution_count": null,
   "id": "1b45f6a8-967c-43ee-85c9-56dd7ffd411d",
   "metadata": {},
   "outputs": [],
   "source": [
    "features = iris_data.data\n",
    "labels = iris_data.target"
   ]
  },
  {
   "cell_type": "code",
   "execution_count": null,
   "id": "68ebca54-8483-4bfa-a4df-6782e4ad11d2",
   "metadata": {},
   "outputs": [],
   "source": [
    "labels"
   ]
  },
  {
   "cell_type": "code",
   "execution_count": null,
   "id": "e2a0865d-c25b-4a76-bd51-3bf7d4508b01",
   "metadata": {},
   "outputs": [],
   "source": [
    "# normalize the data\n",
    "from sklearn.preprocessing import MinMaxScaler\n",
    "features = MinMaxScaler().fit_transform(features)\n",
    "\n",
    "import pandas as pd\n",
    "import seaborn as sns\n",
    "\n",
    "df = pd.DataFrame(iris_data.data, columns=iris_data.feature_names)\n",
    "df[\"class\"] = pd.Series(iris_data.target)\n",
    "\n",
    "sns.pairplot(df, hue=\"class\", palette=\"tab10\")"
   ]
  },
  {
   "cell_type": "markdown",
   "id": "c9f6f07c-9c59-4417-86bf-02b8c9a92d94",
   "metadata": {},
   "source": [
    "## First - let us compare with sklearn"
   ]
  },
  {
   "cell_type": "code",
   "execution_count": null,
   "id": "9b8ae9e9-a20b-4624-a20a-a2b7044758fa",
   "metadata": {},
   "outputs": [],
   "source": [
    "from sklearn.model_selection import train_test_split\n",
    "from qiskit_machine_learning.utils import algorithm_globals\n",
    "\n",
    "algorithm_globals.random_seed = 123\n",
    "train_features, test_features, train_labels, test_labels = train_test_split(\n",
    "    features, labels, train_size=0.8, random_state=algorithm_globals.random_seed\n",
    ")"
   ]
  },
  {
   "cell_type": "code",
   "execution_count": null,
   "id": "a30ac40c-45bf-43e7-a6a1-80b1bc27f418",
   "metadata": {},
   "outputs": [],
   "source": [
    "from sklearn.svm import SVC\n",
    "\n",
    "svc = SVC()\n",
    "_ = svc.fit(train_features, train_labels) "
   ]
  },
  {
   "cell_type": "code",
   "execution_count": null,
   "id": "21895062-6d08-48fa-8888-9066f58e9a62",
   "metadata": {},
   "outputs": [],
   "source": [
    "train_score_c4 = svc.score(train_features, train_labels)\n",
    "test_score_c4 = svc.score(test_features, test_labels)\n",
    "\n",
    "print(f\"Classical SVC on the training dataset: {train_score_c4:.2f}\")\n",
    "print(f\"Classical SVC on the test dataset:     {test_score_c4:.2f}\")"
   ]
  },
  {
   "cell_type": "markdown",
   "id": "3f1c0246-865d-475a-b5b9-f90bac0687be",
   "metadata": {},
   "source": [
    "## Now, let us train a Quatum Model"
   ]
  },
  {
   "cell_type": "code",
   "execution_count": null,
   "id": "8edf92fe-56a4-49d8-bd8f-173105cdc2ad",
   "metadata": {},
   "outputs": [],
   "source": [
    "# We need to map our feature in the circuit, we will be using ZZFeatureMap\n",
    "from qiskit.circuit.library import ZZFeatureMap\n",
    "\n",
    "num_features = features.shape[1]\n",
    "\n",
    "feature_map = ZZFeatureMap(feature_dimension=num_features, reps=1)\n",
    "feature_map.decompose().draw(output=\"mpl\", fold=20)"
   ]
  },
  {
   "cell_type": "code",
   "execution_count": null,
   "id": "e6de343a-3db3-48e8-8abc-28c719f53d0d",
   "metadata": {},
   "outputs": [],
   "source": [
    "# and use Real Amplitude as the training parameters\n",
    "\n",
    "from qiskit.circuit.library import RealAmplitudes\n",
    "\n",
    "ansatz = RealAmplitudes(num_qubits=num_features, reps=3)\n",
    "ansatz.decompose().draw(output=\"mpl\", fold=20)"
   ]
  },
  {
   "cell_type": "code",
   "execution_count": null,
   "id": "aaafcb56-1b47-4a46-b400-1f3209a52086",
   "metadata": {},
   "outputs": [],
   "source": [
    "from qiskit_machine_learning.optimizers import COBYLA\n",
    "\n",
    "optimizer = COBYLA(maxiter=100)"
   ]
  },
  {
   "cell_type": "code",
   "execution_count": null,
   "id": "f8efe8a6-73aa-4352-b98f-14ccd482ec74",
   "metadata": {},
   "outputs": [],
   "source": [
    "from qiskit.primitives import StatevectorSampler as Sampler\n",
    "\n",
    "sampler = Sampler()"
   ]
  },
  {
   "cell_type": "code",
   "execution_count": null,
   "id": "9a109dd1-0514-457e-b183-aceb032e5195",
   "metadata": {},
   "outputs": [],
   "source": [
    "from matplotlib import pyplot as plt\n",
    "from IPython.display import clear_output\n",
    "\n",
    "objective_func_vals = []\n",
    "plt.rcParams[\"figure.figsize\"] = (12, 6)\n",
    "\n",
    "\n",
    "def callback_graph(weights, obj_func_eval):\n",
    "    clear_output(wait=True)\n",
    "    objective_func_vals.append(obj_func_eval)\n",
    "    plt.title(\"Objective function value against iteration\")\n",
    "    plt.xlabel(\"Iteration\")\n",
    "    plt.ylabel(\"Objective function value\")\n",
    "    plt.plot(range(len(objective_func_vals)), objective_func_vals)\n",
    "    plt.show()"
   ]
  },
  {
   "cell_type": "code",
   "execution_count": null,
   "id": "c47381df-e296-4a4e-b55b-78bfb3b69772",
   "metadata": {},
   "outputs": [],
   "source": [
    "# Training the model\n",
    "import time\n",
    "from qiskit_machine_learning.algorithms.classifiers import VQC\n",
    "\n",
    "vqc = VQC(\n",
    "    sampler=sampler,\n",
    "    feature_map=feature_map,\n",
    "    ansatz=ansatz,\n",
    "    optimizer=optimizer,\n",
    "    callback=callback_graph,\n",
    ")\n",
    "\n",
    "# clear objective value history\n",
    "objective_func_vals = []\n",
    "\n",
    "start = time.time()\n",
    "vqc.fit(train_features, train_labels)\n",
    "elapsed = time.time() - start\n",
    "\n",
    "print(f\"Training time: {round(elapsed)} seconds\")"
   ]
  },
  {
   "cell_type": "code",
   "execution_count": null,
   "id": "f9408cd3-93af-41bd-9823-236bb00dc6bd",
   "metadata": {},
   "outputs": [],
   "source": [
    "# How does the model perform?\n",
    "\n",
    "\n",
    "train_score_q4 = vqc.score(train_features, train_labels)\n",
    "test_score_q4 = vqc.score(test_features, test_labels)\n",
    "\n",
    "print(f\"Quantum VQC on the training dataset: {train_score_q4:.2f}\")\n",
    "print(f\"Quantum VQC on the test dataset:     {test_score_q4:.2f}\")"
   ]
  },
  {
   "cell_type": "code",
   "execution_count": null,
   "id": "06d707b7-ea5e-466a-8fbe-c433bc97c496",
   "metadata": {},
   "outputs": [],
   "source": [
    "# Let us change the ansatz to EfficientSU2\n",
    "from qiskit.circuit.library import EfficientSU2\n",
    "\n",
    "ansatz = EfficientSU2(num_qubits=num_features, reps=3)\n",
    "optimizer = COBYLA(maxiter=40)\n",
    "\n",
    "vqc = VQC(\n",
    "    sampler=sampler,\n",
    "    feature_map=feature_map,\n",
    "    ansatz=ansatz,\n",
    "    optimizer=optimizer,\n",
    "    callback=callback_graph,\n",
    ")\n",
    "\n",
    "# clear objective value history\n",
    "objective_func_vals = []\n",
    "\n",
    "start = time.time()\n",
    "vqc.fit(train_features, train_labels)\n",
    "elapsed = time.time() - start\n",
    "\n",
    "print(f\"Training time: {round(elapsed)} seconds\")"
   ]
  },
  {
   "cell_type": "code",
   "execution_count": null,
   "id": "c7e875a3-c0ad-44e0-921a-1adca7f40ec8",
   "metadata": {},
   "outputs": [],
   "source": [
    "# How does the model perform?\n",
    "\n",
    "\n",
    "train_score_q5 = vqc.score(train_features, train_labels)\n",
    "test_score_q5 = vqc.score(test_features, test_labels)\n",
    "\n",
    "print(f\"Quantum VQC on the training dataset: {train_score_q5:.2f}\")\n",
    "print(f\"Quantum VQC on the test dataset:     {test_score_q4:.2f}\")"
   ]
  }
 ],
 "metadata": {
  "kernelspec": {
   "display_name": "Python 3 (ipykernel)",
   "language": "python",
   "name": "python3"
  },
  "language_info": {
   "codemirror_mode": {
    "name": "ipython",
    "version": 3
   },
   "file_extension": ".py",
   "mimetype": "text/x-python",
   "name": "python",
   "nbconvert_exporter": "python",
   "pygments_lexer": "ipython3",
   "version": "3.12.6"
  }
 },
 "nbformat": 4,
 "nbformat_minor": 5
}
